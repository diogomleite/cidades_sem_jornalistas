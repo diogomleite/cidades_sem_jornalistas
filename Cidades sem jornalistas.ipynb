{
 "cells": [
  {
   "cell_type": "code",
   "execution_count": 77,
   "id": "2b6afa82",
   "metadata": {},
   "outputs": [],
   "source": [
    "# Importar bibliotecas\n",
    "\n",
    "import pandas as pd\n",
    "import matplotlib.pyplot as plt\n",
    "import numpy as np"
   ]
  },
  {
   "cell_type": "markdown",
   "id": "03af6149-e452-42ce-b487-f88dc0fcefc8",
   "metadata": {},
   "source": [
    "## Importação e tratamento dos dados"
   ]
  },
  {
   "cell_type": "code",
   "execution_count": 3,
   "id": "62c0da35",
   "metadata": {},
   "outputs": [],
   "source": [
    "# Dados do Atlas da Notícia\n",
    "\n",
    "desertos = pd.read_csv(r\"C:\\Users\\Diogo\\Downloads\\csv.csv\")\n",
    "desertos['id_municipio'] = desertos['Cód Mun. (IBGE)']"
   ]
  },
  {
   "cell_type": "code",
   "execution_count": 5,
   "id": "daca4cf0",
   "metadata": {
    "scrolled": true
   },
   "outputs": [
    {
     "data": {
      "text/plain": [
       "Unnamed: 0              2708\n",
       "Cód Mun. (IBGE)         2708\n",
       "Município               2708\n",
       "UF                      2708\n",
       "Região                  2708\n",
       "População               2708\n",
       "Ano (população IBGE)    2708\n",
       "IDHM                    2705\n",
       "IDHM (Renda)            2705\n",
       "IDHM (Educação)         2705\n",
       "id_municipio            2708\n",
       "dtype: int64"
      ]
     },
     "execution_count": 5,
     "metadata": {},
     "output_type": "execute_result"
    }
   ],
   "source": [
    "desertos.count()"
   ]
  },
  {
   "cell_type": "code",
   "execution_count": 7,
   "id": "2a9eadf7",
   "metadata": {},
   "outputs": [],
   "source": [
    "#dados da RAIS\n",
    "\n",
    "ratier = pd.read_csv(r\"C:\\Users\\Diogo\\Downloads\\ratier.csv\", sep=';')"
   ]
  },
  {
   "cell_type": "code",
   "execution_count": 9,
   "id": "cb98d8cb",
   "metadata": {},
   "outputs": [],
   "source": [
    "#merge com nome de municipios\n",
    "municipios = pd.read_csv(r\"C:\\Users\\Diogo\\Downloads\\Lista_Municípios_com_IBGE_Brasil_Versao_CSV.csv\", sep=';', encoding='latin1')\n",
    "municipios['id_municipio'] = municipios['IBGE7']\n",
    "municipios = municipios.drop(columns=['Capital', 'IBGE', 'IBGE7', 'ConcatUF+Mun'])\n",
    "ratier = pd.merge(ratier, municipios, on='id_municipio')"
   ]
  },
  {
   "cell_type": "code",
   "execution_count": 11,
   "id": "49020e7c",
   "metadata": {},
   "outputs": [],
   "source": [
    "municipios.to_csv(r'municipios.csv')"
   ]
  },
  {
   "cell_type": "code",
   "execution_count": 13,
   "id": "5cd02adf",
   "metadata": {},
   "outputs": [
    {
     "data": {
      "text/plain": [
       "5.10911083561933"
      ]
     },
     "execution_count": 13,
     "metadata": {},
     "output_type": "execute_result"
    }
   ],
   "source": [
    "# Calculando a diferença salarial entre capital e interior\n",
    "\n",
    "sal_int = ratier.loc[ratier['ano'] == 2022]\n",
    "sal_int = sal_int.loc[(sal_int['Porte'] != 'Grande')]\n",
    "sal_int['valor_remuneracao_media_sm'].mean()"
   ]
  },
  {
   "cell_type": "code",
   "execution_count": 15,
   "id": "9bf3a7e4",
   "metadata": {},
   "outputs": [],
   "source": [
    "ratier = ratier.loc[(ratier.cbo_2002 != 261110) & (ratier.cbo_2002 != 261105) & (ratier.cbo_2002 != 261140)]"
   ]
  },
  {
   "cell_type": "code",
   "execution_count": 17,
   "id": "9f219f9c",
   "metadata": {},
   "outputs": [
    {
     "data": {
      "text/html": [
       "<div>\n",
       "<style scoped>\n",
       "    .dataframe tbody tr th:only-of-type {\n",
       "        vertical-align: middle;\n",
       "    }\n",
       "\n",
       "    .dataframe tbody tr th {\n",
       "        vertical-align: top;\n",
       "    }\n",
       "\n",
       "    .dataframe thead th {\n",
       "        text-align: right;\n",
       "    }\n",
       "</style>\n",
       "<table border=\"1\" class=\"dataframe\">\n",
       "  <thead>\n",
       "    <tr style=\"text-align: right;\">\n",
       "      <th></th>\n",
       "      <th>Unnamed: 0</th>\n",
       "      <th>sexo</th>\n",
       "      <th>id_municipio</th>\n",
       "      <th>ano</th>\n",
       "      <th>tempo_emprego</th>\n",
       "      <th>quantidade_horas_contratadas</th>\n",
       "      <th>valor_remuneracao_media_sm</th>\n",
       "      <th>cbo_2002</th>\n",
       "      <th>idade</th>\n",
       "      <th>tipo_vinculo</th>\n",
       "      <th>motivo_desligamento</th>\n",
       "      <th>tamanho_estabelecimento</th>\n",
       "      <th>grau_instrucao_1985_2005</th>\n",
       "      <th>grau_instrucao_apos_2005</th>\n",
       "      <th>UF</th>\n",
       "      <th>Município</th>\n",
       "      <th>Região</th>\n",
       "      <th>População 2010</th>\n",
       "      <th>Porte</th>\n",
       "    </tr>\n",
       "  </thead>\n",
       "  <tbody>\n",
       "    <tr>\n",
       "      <th>0</th>\n",
       "      <td>0</td>\n",
       "      <td>1</td>\n",
       "      <td>1600303.0</td>\n",
       "      <td>1985</td>\n",
       "      <td>8.7</td>\n",
       "      <td>NaN</td>\n",
       "      <td>6.59</td>\n",
       "      <td>NaN</td>\n",
       "      <td>NaN</td>\n",
       "      <td>1.0</td>\n",
       "      <td>NaN</td>\n",
       "      <td>5</td>\n",
       "      <td>4.0</td>\n",
       "      <td>NaN</td>\n",
       "      <td>AP</td>\n",
       "      <td>Macapá</td>\n",
       "      <td>Região Norte</td>\n",
       "      <td>398204.0</td>\n",
       "      <td>Grande</td>\n",
       "    </tr>\n",
       "    <tr>\n",
       "      <th>1</th>\n",
       "      <td>1</td>\n",
       "      <td>1</td>\n",
       "      <td>1200401.0</td>\n",
       "      <td>1985</td>\n",
       "      <td>1.8</td>\n",
       "      <td>NaN</td>\n",
       "      <td>3.12</td>\n",
       "      <td>NaN</td>\n",
       "      <td>NaN</td>\n",
       "      <td>1.0</td>\n",
       "      <td>NaN</td>\n",
       "      <td>5</td>\n",
       "      <td>5.0</td>\n",
       "      <td>NaN</td>\n",
       "      <td>AC</td>\n",
       "      <td>Rio Branco</td>\n",
       "      <td>Região Norte</td>\n",
       "      <td>336038.0</td>\n",
       "      <td>Grande</td>\n",
       "    </tr>\n",
       "    <tr>\n",
       "      <th>2</th>\n",
       "      <td>2</td>\n",
       "      <td>1</td>\n",
       "      <td>1200401.0</td>\n",
       "      <td>1985</td>\n",
       "      <td>1.1</td>\n",
       "      <td>NaN</td>\n",
       "      <td>4.14</td>\n",
       "      <td>NaN</td>\n",
       "      <td>NaN</td>\n",
       "      <td>1.0</td>\n",
       "      <td>4.0</td>\n",
       "      <td>5</td>\n",
       "      <td>6.0</td>\n",
       "      <td>NaN</td>\n",
       "      <td>AC</td>\n",
       "      <td>Rio Branco</td>\n",
       "      <td>Região Norte</td>\n",
       "      <td>336038.0</td>\n",
       "      <td>Grande</td>\n",
       "    </tr>\n",
       "    <tr>\n",
       "      <th>3</th>\n",
       "      <td>3</td>\n",
       "      <td>1</td>\n",
       "      <td>1200401.0</td>\n",
       "      <td>1985</td>\n",
       "      <td>0.0</td>\n",
       "      <td>NaN</td>\n",
       "      <td>2.61</td>\n",
       "      <td>NaN</td>\n",
       "      <td>NaN</td>\n",
       "      <td>1.0</td>\n",
       "      <td>NaN</td>\n",
       "      <td>4</td>\n",
       "      <td>9.0</td>\n",
       "      <td>NaN</td>\n",
       "      <td>AC</td>\n",
       "      <td>Rio Branco</td>\n",
       "      <td>Região Norte</td>\n",
       "      <td>336038.0</td>\n",
       "      <td>Grande</td>\n",
       "    </tr>\n",
       "    <tr>\n",
       "      <th>4</th>\n",
       "      <td>4</td>\n",
       "      <td>1</td>\n",
       "      <td>1400100.0</td>\n",
       "      <td>1985</td>\n",
       "      <td>9.9</td>\n",
       "      <td>NaN</td>\n",
       "      <td>5.32</td>\n",
       "      <td>NaN</td>\n",
       "      <td>NaN</td>\n",
       "      <td>1.0</td>\n",
       "      <td>NaN</td>\n",
       "      <td>5</td>\n",
       "      <td>4.0</td>\n",
       "      <td>NaN</td>\n",
       "      <td>RR</td>\n",
       "      <td>Boa Vista</td>\n",
       "      <td>Região Norte</td>\n",
       "      <td>284313.0</td>\n",
       "      <td>Grande</td>\n",
       "    </tr>\n",
       "  </tbody>\n",
       "</table>\n",
       "</div>"
      ],
      "text/plain": [
       "   Unnamed: 0  sexo  id_municipio   ano  tempo_emprego  \\\n",
       "0           0     1     1600303.0  1985            8.7   \n",
       "1           1     1     1200401.0  1985            1.8   \n",
       "2           2     1     1200401.0  1985            1.1   \n",
       "3           3     1     1200401.0  1985            0.0   \n",
       "4           4     1     1400100.0  1985            9.9   \n",
       "\n",
       "   quantidade_horas_contratadas  valor_remuneracao_media_sm  cbo_2002  idade  \\\n",
       "0                           NaN                        6.59       NaN    NaN   \n",
       "1                           NaN                        3.12       NaN    NaN   \n",
       "2                           NaN                        4.14       NaN    NaN   \n",
       "3                           NaN                        2.61       NaN    NaN   \n",
       "4                           NaN                        5.32       NaN    NaN   \n",
       "\n",
       "   tipo_vinculo  motivo_desligamento  tamanho_estabelecimento  \\\n",
       "0           1.0                  NaN                        5   \n",
       "1           1.0                  NaN                        5   \n",
       "2           1.0                  4.0                        5   \n",
       "3           1.0                  NaN                        4   \n",
       "4           1.0                  NaN                        5   \n",
       "\n",
       "   grau_instrucao_1985_2005  grau_instrucao_apos_2005  UF   Município  \\\n",
       "0                       4.0                       NaN  AP      Macapá   \n",
       "1                       5.0                       NaN  AC  Rio Branco   \n",
       "2                       6.0                       NaN  AC  Rio Branco   \n",
       "3                       9.0                       NaN  AC  Rio Branco   \n",
       "4                       4.0                       NaN  RR   Boa Vista   \n",
       "\n",
       "         Região  População 2010   Porte  \n",
       "0  Região Norte        398204.0  Grande  \n",
       "1  Região Norte        336038.0  Grande  \n",
       "2  Região Norte        336038.0  Grande  \n",
       "3  Região Norte        336038.0  Grande  \n",
       "4  Região Norte        284313.0  Grande  "
      ]
     },
     "execution_count": 17,
     "metadata": {},
     "output_type": "execute_result"
    }
   ],
   "source": [
    "ratier.head()"
   ]
  },
  {
   "cell_type": "markdown",
   "id": "7adba864",
   "metadata": {},
   "source": [
    "### Total de jornalistas por município"
   ]
  },
  {
   "cell_type": "code",
   "execution_count": 19,
   "id": "b28debd5",
   "metadata": {},
   "outputs": [
    {
     "data": {
      "text/html": [
       "<div>\n",
       "<style scoped>\n",
       "    .dataframe tbody tr th:only-of-type {\n",
       "        vertical-align: middle;\n",
       "    }\n",
       "\n",
       "    .dataframe tbody tr th {\n",
       "        vertical-align: top;\n",
       "    }\n",
       "\n",
       "    .dataframe thead th {\n",
       "        text-align: right;\n",
       "    }\n",
       "</style>\n",
       "<table border=\"1\" class=\"dataframe\">\n",
       "  <thead>\n",
       "    <tr style=\"text-align: right;\">\n",
       "      <th></th>\n",
       "      <th>ano</th>\n",
       "      <th>Município</th>\n",
       "      <th>contagem</th>\n",
       "    </tr>\n",
       "  </thead>\n",
       "  <tbody>\n",
       "    <tr>\n",
       "      <th>0</th>\n",
       "      <td>1985</td>\n",
       "      <td>Abaeté</td>\n",
       "      <td>2</td>\n",
       "    </tr>\n",
       "    <tr>\n",
       "      <th>1</th>\n",
       "      <td>1985</td>\n",
       "      <td>Acaraú</td>\n",
       "      <td>1</td>\n",
       "    </tr>\n",
       "    <tr>\n",
       "      <th>2</th>\n",
       "      <td>1985</td>\n",
       "      <td>Adamantina</td>\n",
       "      <td>2</td>\n",
       "    </tr>\n",
       "    <tr>\n",
       "      <th>3</th>\n",
       "      <td>1985</td>\n",
       "      <td>Agudos</td>\n",
       "      <td>1</td>\n",
       "    </tr>\n",
       "    <tr>\n",
       "      <th>4</th>\n",
       "      <td>1985</td>\n",
       "      <td>Alegrete</td>\n",
       "      <td>3</td>\n",
       "    </tr>\n",
       "  </tbody>\n",
       "</table>\n",
       "</div>"
      ],
      "text/plain": [
       "    ano   Município  contagem\n",
       "0  1985      Abaeté         2\n",
       "1  1985      Acaraú         1\n",
       "2  1985  Adamantina         2\n",
       "3  1985      Agudos         1\n",
       "4  1985    Alegrete         3"
      ]
     },
     "execution_count": 19,
     "metadata": {},
     "output_type": "execute_result"
    }
   ],
   "source": [
    "contagem = ratier.groupby(['ano', 'Município']).size().reset_index(name='contagem')\n",
    "contagem.head()"
   ]
  },
  {
   "cell_type": "code",
   "execution_count": 21,
   "id": "5ca51128",
   "metadata": {},
   "outputs": [],
   "source": [
    "numero_jors = pd.merge(contagem, municipios, on=['Município'])"
   ]
  },
  {
   "cell_type": "code",
   "execution_count": 23,
   "id": "f44bd182",
   "metadata": {},
   "outputs": [
    {
     "data": {
      "text/plain": [
       "ano               33846\n",
       "Município         33846\n",
       "contagem          33846\n",
       "UF                33846\n",
       "Região            33846\n",
       "População 2010    33846\n",
       "Porte             33846\n",
       "id_municipio      33846\n",
       "dtype: int64"
      ]
     },
     "execution_count": 23,
     "metadata": {},
     "output_type": "execute_result"
    }
   ],
   "source": [
    "numero_jors.count()"
   ]
  },
  {
   "cell_type": "code",
   "execution_count": 25,
   "id": "5b813d4b-42b0-4c9d-aa47-079d01484e3f",
   "metadata": {
    "scrolled": true
   },
   "outputs": [
    {
     "data": {
      "text/plain": [
       "UF_x                5570\n",
       "Município_x         5570\n",
       "Região_x            5570\n",
       "População 2010_x    5565\n",
       "Porte_x             5570\n",
       "id_municipio        5570\n",
       "ano                 1250\n",
       "Município_y         1250\n",
       "contagem            5570\n",
       "UF_y                1250\n",
       "Região_y            1250\n",
       "População 2010_y    1250\n",
       "Porte_y             1250\n",
       "dtype: int64"
      ]
     },
     "execution_count": 25,
     "metadata": {},
     "output_type": "execute_result"
    }
   ],
   "source": [
    "# Montar dataset com todas as cidades (inclusive as que nunca possuíram jornalistas registrados)\n",
    "\n",
    "df22 = numero_jors.loc[(numero_jors['ano'] == 2022)]\n",
    "\n",
    "cidades_com_contagem = pd.merge(municipios, df22, on=['id_municipio'], how='left')\n",
    "\n",
    "# Preencher os valores ausentes na coluna de contagem com zero\n",
    "cidades_com_contagem['contagem'] = cidades_com_contagem['contagem'].fillna(0)\n",
    "\n",
    "cidades_com_contagem.count()"
   ]
  },
  {
   "cell_type": "code",
   "execution_count": 27,
   "id": "0ef43c3f-20ea-4a12-8d39-d4f074e63a18",
   "metadata": {},
   "outputs": [],
   "source": [
    "cidades_com_contagem.to_csv(r'mapa1.csv')"
   ]
  },
  {
   "cell_type": "code",
   "execution_count": 29,
   "id": "66675537",
   "metadata": {},
   "outputs": [],
   "source": [
    "# Criar dataset só com os dados de 2022\n",
    "\n",
    "numero_jors.loc[(numero_jors['ano'] == 2022)].to_csv(r'numero_jors_1.csv')"
   ]
  },
  {
   "cell_type": "code",
   "execution_count": 31,
   "id": "b0c35146",
   "metadata": {},
   "outputs": [],
   "source": [
    "numero_jors = contagem.pivot_table(index='ano', columns='Município', values='contagem', fill_value=0)"
   ]
  },
  {
   "cell_type": "code",
   "execution_count": 33,
   "id": "dbad285d",
   "metadata": {
    "scrolled": true
   },
   "outputs": [
    {
     "data": {
      "text/html": [
       "<div>\n",
       "<style scoped>\n",
       "    .dataframe tbody tr th:only-of-type {\n",
       "        vertical-align: middle;\n",
       "    }\n",
       "\n",
       "    .dataframe tbody tr th {\n",
       "        vertical-align: top;\n",
       "    }\n",
       "\n",
       "    .dataframe thead th {\n",
       "        text-align: right;\n",
       "    }\n",
       "</style>\n",
       "<table border=\"1\" class=\"dataframe\">\n",
       "  <thead>\n",
       "    <tr style=\"text-align: right;\">\n",
       "      <th>Município</th>\n",
       "      <th>Abadia Dos Dourados</th>\n",
       "      <th>Abadia de Goiás</th>\n",
       "      <th>Abadiânia</th>\n",
       "      <th>Abaetetuba</th>\n",
       "      <th>Abaeté</th>\n",
       "      <th>Abaíra</th>\n",
       "      <th>Abdon Batista</th>\n",
       "      <th>Abelardo Luz</th>\n",
       "      <th>Abre Campo</th>\n",
       "      <th>Abreu e Lima</th>\n",
       "      <th>...</th>\n",
       "      <th>Águas Formosas</th>\n",
       "      <th>Águas Lindas de Goiás</th>\n",
       "      <th>Águas de Chapecó</th>\n",
       "      <th>Águas de Lindóia</th>\n",
       "      <th>Águas de São Pedro</th>\n",
       "      <th>Águia Branca</th>\n",
       "      <th>Álvares Machado</th>\n",
       "      <th>Álvaro de Carvalho</th>\n",
       "      <th>Óbidos</th>\n",
       "      <th>ano</th>\n",
       "    </tr>\n",
       "  </thead>\n",
       "  <tbody>\n",
       "    <tr>\n",
       "      <th>34</th>\n",
       "      <td>0.0</td>\n",
       "      <td>0.0</td>\n",
       "      <td>0.0</td>\n",
       "      <td>0.0</td>\n",
       "      <td>1.0</td>\n",
       "      <td>0.0</td>\n",
       "      <td>0.0</td>\n",
       "      <td>3.0</td>\n",
       "      <td>0.0</td>\n",
       "      <td>0.0</td>\n",
       "      <td>...</td>\n",
       "      <td>0.0</td>\n",
       "      <td>0.0</td>\n",
       "      <td>0.0</td>\n",
       "      <td>0.0</td>\n",
       "      <td>0.0</td>\n",
       "      <td>0.0</td>\n",
       "      <td>4.0</td>\n",
       "      <td>0.0</td>\n",
       "      <td>0.0</td>\n",
       "      <td>NaN</td>\n",
       "    </tr>\n",
       "    <tr>\n",
       "      <th>35</th>\n",
       "      <td>0.0</td>\n",
       "      <td>0.0</td>\n",
       "      <td>0.0</td>\n",
       "      <td>0.0</td>\n",
       "      <td>0.0</td>\n",
       "      <td>0.0</td>\n",
       "      <td>0.0</td>\n",
       "      <td>3.0</td>\n",
       "      <td>0.0</td>\n",
       "      <td>0.0</td>\n",
       "      <td>...</td>\n",
       "      <td>0.0</td>\n",
       "      <td>0.0</td>\n",
       "      <td>0.0</td>\n",
       "      <td>0.0</td>\n",
       "      <td>0.0</td>\n",
       "      <td>0.0</td>\n",
       "      <td>4.0</td>\n",
       "      <td>0.0</td>\n",
       "      <td>0.0</td>\n",
       "      <td>NaN</td>\n",
       "    </tr>\n",
       "    <tr>\n",
       "      <th>36</th>\n",
       "      <td>0.0</td>\n",
       "      <td>0.0</td>\n",
       "      <td>0.0</td>\n",
       "      <td>2.0</td>\n",
       "      <td>0.0</td>\n",
       "      <td>0.0</td>\n",
       "      <td>0.0</td>\n",
       "      <td>3.0</td>\n",
       "      <td>0.0</td>\n",
       "      <td>0.0</td>\n",
       "      <td>...</td>\n",
       "      <td>0.0</td>\n",
       "      <td>0.0</td>\n",
       "      <td>0.0</td>\n",
       "      <td>0.0</td>\n",
       "      <td>0.0</td>\n",
       "      <td>0.0</td>\n",
       "      <td>4.0</td>\n",
       "      <td>0.0</td>\n",
       "      <td>0.0</td>\n",
       "      <td>NaN</td>\n",
       "    </tr>\n",
       "    <tr>\n",
       "      <th>37</th>\n",
       "      <td>0.0</td>\n",
       "      <td>0.0</td>\n",
       "      <td>0.0</td>\n",
       "      <td>3.0</td>\n",
       "      <td>1.0</td>\n",
       "      <td>0.0</td>\n",
       "      <td>0.0</td>\n",
       "      <td>3.0</td>\n",
       "      <td>0.0</td>\n",
       "      <td>0.0</td>\n",
       "      <td>...</td>\n",
       "      <td>0.0</td>\n",
       "      <td>0.0</td>\n",
       "      <td>0.0</td>\n",
       "      <td>0.0</td>\n",
       "      <td>0.0</td>\n",
       "      <td>0.0</td>\n",
       "      <td>3.0</td>\n",
       "      <td>0.0</td>\n",
       "      <td>0.0</td>\n",
       "      <td>NaN</td>\n",
       "    </tr>\n",
       "    <tr>\n",
       "      <th>38</th>\n",
       "      <td>1.0</td>\n",
       "      <td>9.0</td>\n",
       "      <td>20.0</td>\n",
       "      <td>18.0</td>\n",
       "      <td>26.0</td>\n",
       "      <td>1.0</td>\n",
       "      <td>1.0</td>\n",
       "      <td>53.0</td>\n",
       "      <td>1.0</td>\n",
       "      <td>11.0</td>\n",
       "      <td>...</td>\n",
       "      <td>1.0</td>\n",
       "      <td>5.0</td>\n",
       "      <td>7.0</td>\n",
       "      <td>15.0</td>\n",
       "      <td>9.0</td>\n",
       "      <td>3.0</td>\n",
       "      <td>31.0</td>\n",
       "      <td>21.0</td>\n",
       "      <td>3.0</td>\n",
       "      <td>Total</td>\n",
       "    </tr>\n",
       "  </tbody>\n",
       "</table>\n",
       "<p>5 rows × 2435 columns</p>\n",
       "</div>"
      ],
      "text/plain": [
       "Município Abadia Dos Dourados Abadia de Goiás Abadiânia Abaetetuba Abaeté  \\\n",
       "34                        0.0             0.0       0.0        0.0    1.0   \n",
       "35                        0.0             0.0       0.0        0.0    0.0   \n",
       "36                        0.0             0.0       0.0        2.0    0.0   \n",
       "37                        0.0             0.0       0.0        3.0    1.0   \n",
       "38                        1.0             9.0      20.0       18.0   26.0   \n",
       "\n",
       "Município Abaíra Abdon Batista Abelardo Luz Abre Campo Abreu e Lima  ...  \\\n",
       "34           0.0           0.0          3.0        0.0          0.0  ...   \n",
       "35           0.0           0.0          3.0        0.0          0.0  ...   \n",
       "36           0.0           0.0          3.0        0.0          0.0  ...   \n",
       "37           0.0           0.0          3.0        0.0          0.0  ...   \n",
       "38           1.0           1.0         53.0        1.0         11.0  ...   \n",
       "\n",
       "Município Águas Formosas Águas Lindas de Goiás Águas de Chapecó  \\\n",
       "34                   0.0                   0.0              0.0   \n",
       "35                   0.0                   0.0              0.0   \n",
       "36                   0.0                   0.0              0.0   \n",
       "37                   0.0                   0.0              0.0   \n",
       "38                   1.0                   5.0              7.0   \n",
       "\n",
       "Município Águas de Lindóia Águas de São Pedro Águia Branca Álvares Machado  \\\n",
       "34                     0.0                0.0          0.0             4.0   \n",
       "35                     0.0                0.0          0.0             4.0   \n",
       "36                     0.0                0.0          0.0             4.0   \n",
       "37                     0.0                0.0          0.0             3.0   \n",
       "38                    15.0                9.0          3.0            31.0   \n",
       "\n",
       "Município Álvaro de Carvalho Óbidos    ano  \n",
       "34                       0.0    0.0    NaN  \n",
       "35                       0.0    0.0    NaN  \n",
       "36                       0.0    0.0    NaN  \n",
       "37                       0.0    0.0    NaN  \n",
       "38                      21.0    3.0  Total  \n",
       "\n",
       "[5 rows x 2435 columns]"
      ]
     },
     "execution_count": 33,
     "metadata": {},
     "output_type": "execute_result"
    }
   ],
   "source": [
    "totais = numero_jors.sum()\n",
    "\n",
    "# Adicionar uma coluna para o ano com o valor 'Total'\n",
    "totais['ano'] = 'Total'\n",
    "\n",
    "# Converter a série para um DataFrame e adicionar ao DataFrame original\n",
    "df_totais = pd.DataFrame(totais).T\n",
    "\n",
    "# Concatenar o DataFrame original com a linha de totais\n",
    "numero_jors = pd.concat([numero_jors, df_totais], ignore_index=True)\n",
    "\n",
    "numero_jors.tail()"
   ]
  },
  {
   "cell_type": "code",
   "execution_count": 35,
   "id": "55fdda4a",
   "metadata": {},
   "outputs": [],
   "source": [
    "numero_jors.to_excel('numero_jors.xlsx')"
   ]
  },
  {
   "cell_type": "markdown",
   "id": "47dbe27f-ba95-4188-8c9a-a8c69fd6e6d5",
   "metadata": {},
   "source": [
    "## Encontrar quais municipios não tem jornalistas"
   ]
  },
  {
   "cell_type": "code",
   "execution_count": 37,
   "id": "1f737d54",
   "metadata": {},
   "outputs": [],
   "source": [
    "# Encontrar os municípios que estão em df_todos, mas não em df_alguns\n",
    "municipios_alguns = set(contagem['Município'])\n",
    "municipios_todos = set(municipios['Município'])"
   ]
  },
  {
   "cell_type": "code",
   "execution_count": 39,
   "id": "ad7e8d53",
   "metadata": {},
   "outputs": [],
   "source": [
    "municipios_faltando = municipios_todos.difference(municipios_alguns)"
   ]
  },
  {
   "cell_type": "code",
   "execution_count": 41,
   "id": "b9e42eda",
   "metadata": {},
   "outputs": [],
   "source": [
    "nao_tem = pd.DataFrame(municipios_faltando, columns=['Município'])\n",
    "nao_tem = pd.merge(nao_tem, municipios, on='Município')"
   ]
  },
  {
   "cell_type": "code",
   "execution_count": 43,
   "id": "73e93b21",
   "metadata": {},
   "outputs": [
    {
     "data": {
      "text/html": [
       "<div>\n",
       "<style scoped>\n",
       "    .dataframe tbody tr th:only-of-type {\n",
       "        vertical-align: middle;\n",
       "    }\n",
       "\n",
       "    .dataframe tbody tr th {\n",
       "        vertical-align: top;\n",
       "    }\n",
       "\n",
       "    .dataframe thead th {\n",
       "        text-align: right;\n",
       "    }\n",
       "</style>\n",
       "<table border=\"1\" class=\"dataframe\">\n",
       "  <thead>\n",
       "    <tr style=\"text-align: right;\">\n",
       "      <th></th>\n",
       "      <th>Município</th>\n",
       "      <th>UF</th>\n",
       "      <th>Região</th>\n",
       "      <th>População 2010</th>\n",
       "      <th>Porte</th>\n",
       "      <th>id_municipio</th>\n",
       "    </tr>\n",
       "  </thead>\n",
       "  <tbody>\n",
       "    <tr>\n",
       "      <th>0</th>\n",
       "      <td>Vila Lângaro</td>\n",
       "      <td>RS</td>\n",
       "      <td>Região Sul</td>\n",
       "      <td>2152.0</td>\n",
       "      <td>Pequeno I</td>\n",
       "      <td>4323358</td>\n",
       "    </tr>\n",
       "    <tr>\n",
       "      <th>1</th>\n",
       "      <td>Marques de Souza</td>\n",
       "      <td>RS</td>\n",
       "      <td>Região Sul</td>\n",
       "      <td>4068.0</td>\n",
       "      <td>Pequeno I</td>\n",
       "      <td>4312054</td>\n",
       "    </tr>\n",
       "    <tr>\n",
       "      <th>2</th>\n",
       "      <td>Morro do Chapéu do Piauí</td>\n",
       "      <td>PI</td>\n",
       "      <td>Região Nordeste</td>\n",
       "      <td>6499.0</td>\n",
       "      <td>Pequeno I</td>\n",
       "      <td>2206670</td>\n",
       "    </tr>\n",
       "    <tr>\n",
       "      <th>3</th>\n",
       "      <td>Iretama</td>\n",
       "      <td>PR</td>\n",
       "      <td>Região Sul</td>\n",
       "      <td>10622.0</td>\n",
       "      <td>Pequeno I</td>\n",
       "      <td>4110805</td>\n",
       "    </tr>\n",
       "    <tr>\n",
       "      <th>4</th>\n",
       "      <td>Ipê</td>\n",
       "      <td>RS</td>\n",
       "      <td>Região Sul</td>\n",
       "      <td>6016.0</td>\n",
       "      <td>Pequeno I</td>\n",
       "      <td>4310439</td>\n",
       "    </tr>\n",
       "  </tbody>\n",
       "</table>\n",
       "</div>"
      ],
      "text/plain": [
       "                  Município  UF           Região  População 2010      Porte  \\\n",
       "0              Vila Lângaro  RS       Região Sul          2152.0  Pequeno I   \n",
       "1          Marques de Souza  RS       Região Sul          4068.0  Pequeno I   \n",
       "2  Morro do Chapéu do Piauí  PI  Região Nordeste          6499.0  Pequeno I   \n",
       "3                   Iretama  PR       Região Sul         10622.0  Pequeno I   \n",
       "4                       Ipê  RS       Região Sul          6016.0  Pequeno I   \n",
       "\n",
       "   id_municipio  \n",
       "0       4323358  \n",
       "1       4312054  \n",
       "2       2206670  \n",
       "3       4110805  \n",
       "4       4310439  "
      ]
     },
     "execution_count": 43,
     "metadata": {},
     "output_type": "execute_result"
    }
   ],
   "source": [
    "nao_tem.to_excel('naotem.xlsx')\n",
    "nao_tem.head()"
   ]
  },
  {
   "cell_type": "code",
   "execution_count": 45,
   "id": "61db7cac",
   "metadata": {},
   "outputs": [
    {
     "data": {
      "text/plain": [
       "Município         2927\n",
       "UF                2927\n",
       "Região            2927\n",
       "População 2010    2922\n",
       "Porte             2927\n",
       "id_municipio      2927\n",
       "dtype: int64"
      ]
     },
     "execution_count": 45,
     "metadata": {},
     "output_type": "execute_result"
    }
   ],
   "source": [
    "nao_tem.count()"
   ]
  },
  {
   "cell_type": "markdown",
   "id": "bcc91afc",
   "metadata": {},
   "source": [
    "### Ver quais municípios sem jornalistas são desertos de notícias"
   ]
  },
  {
   "cell_type": "code",
   "execution_count": 47,
   "id": "db7ed57e",
   "metadata": {},
   "outputs": [],
   "source": [
    "#merge com nome de municipios\n",
    "\n",
    "atlas = pd.merge(nao_tem, desertos, on='id_municipio')"
   ]
  },
  {
   "cell_type": "code",
   "execution_count": 49,
   "id": "e29bf98f",
   "metadata": {},
   "outputs": [
    {
     "data": {
      "text/html": [
       "<div>\n",
       "<style scoped>\n",
       "    .dataframe tbody tr th:only-of-type {\n",
       "        vertical-align: middle;\n",
       "    }\n",
       "\n",
       "    .dataframe tbody tr th {\n",
       "        vertical-align: top;\n",
       "    }\n",
       "\n",
       "    .dataframe thead th {\n",
       "        text-align: right;\n",
       "    }\n",
       "</style>\n",
       "<table border=\"1\" class=\"dataframe\">\n",
       "  <thead>\n",
       "    <tr style=\"text-align: right;\">\n",
       "      <th></th>\n",
       "      <th>População 2010</th>\n",
       "      <th>id_municipio</th>\n",
       "      <th>Unnamed: 0</th>\n",
       "      <th>Cód Mun. (IBGE)</th>\n",
       "      <th>População</th>\n",
       "      <th>Ano (população IBGE)</th>\n",
       "      <th>IDHM</th>\n",
       "      <th>IDHM (Renda)</th>\n",
       "      <th>IDHM (Educação)</th>\n",
       "    </tr>\n",
       "  </thead>\n",
       "  <tbody>\n",
       "    <tr>\n",
       "      <th>count</th>\n",
       "      <td>1965.000000</td>\n",
       "      <td>1.968000e+03</td>\n",
       "      <td>1968.000000</td>\n",
       "      <td>1.968000e+03</td>\n",
       "      <td>1968.000000</td>\n",
       "      <td>1968.0</td>\n",
       "      <td>1965.000000</td>\n",
       "      <td>1965.000000</td>\n",
       "      <td>1965.000000</td>\n",
       "    </tr>\n",
       "    <tr>\n",
       "      <th>mean</th>\n",
       "      <td>7430.321120</td>\n",
       "      <td>3.151934e+06</td>\n",
       "      <td>1378.855183</td>\n",
       "      <td>3.151934e+06</td>\n",
       "      <td>7546.584350</td>\n",
       "      <td>2022.0</td>\n",
       "      <td>0.638929</td>\n",
       "      <td>0.619236</td>\n",
       "      <td>0.535389</td>\n",
       "    </tr>\n",
       "    <tr>\n",
       "      <th>std</th>\n",
       "      <td>5997.466046</td>\n",
       "      <td>9.219697e+05</td>\n",
       "      <td>790.873832</td>\n",
       "      <td>9.219697e+05</td>\n",
       "      <td>6324.086979</td>\n",
       "      <td>0.0</td>\n",
       "      <td>0.069655</td>\n",
       "      <td>0.076835</td>\n",
       "      <td>0.091738</td>\n",
       "    </tr>\n",
       "    <tr>\n",
       "      <th>min</th>\n",
       "      <td>805.000000</td>\n",
       "      <td>1.100031e+06</td>\n",
       "      <td>1.000000</td>\n",
       "      <td>1.100031e+06</td>\n",
       "      <td>907.000000</td>\n",
       "      <td>2022.0</td>\n",
       "      <td>0.418000</td>\n",
       "      <td>0.400000</td>\n",
       "      <td>0.207000</td>\n",
       "    </tr>\n",
       "    <tr>\n",
       "      <th>25%</th>\n",
       "      <td>3507.000000</td>\n",
       "      <td>2.414196e+06</td>\n",
       "      <td>689.750000</td>\n",
       "      <td>2.414196e+06</td>\n",
       "      <td>3420.500000</td>\n",
       "      <td>2022.0</td>\n",
       "      <td>0.582000</td>\n",
       "      <td>0.554000</td>\n",
       "      <td>0.468000</td>\n",
       "    </tr>\n",
       "    <tr>\n",
       "      <th>50%</th>\n",
       "      <td>5522.000000</td>\n",
       "      <td>3.127379e+06</td>\n",
       "      <td>1410.500000</td>\n",
       "      <td>3.127379e+06</td>\n",
       "      <td>5516.500000</td>\n",
       "      <td>2022.0</td>\n",
       "      <td>0.638000</td>\n",
       "      <td>0.619000</td>\n",
       "      <td>0.531000</td>\n",
       "    </tr>\n",
       "    <tr>\n",
       "      <th>75%</th>\n",
       "      <td>9560.000000</td>\n",
       "      <td>3.555554e+06</td>\n",
       "      <td>2061.500000</td>\n",
       "      <td>3.555554e+06</td>\n",
       "      <td>9740.750000</td>\n",
       "      <td>2022.0</td>\n",
       "      <td>0.699000</td>\n",
       "      <td>0.682000</td>\n",
       "      <td>0.604000</td>\n",
       "    </tr>\n",
       "    <tr>\n",
       "      <th>max</th>\n",
       "      <td>59466.000000</td>\n",
       "      <td>5.222302e+06</td>\n",
       "      <td>2708.000000</td>\n",
       "      <td>5.222302e+06</td>\n",
       "      <td>73019.000000</td>\n",
       "      <td>2022.0</td>\n",
       "      <td>0.795000</td>\n",
       "      <td>0.840000</td>\n",
       "      <td>0.773000</td>\n",
       "    </tr>\n",
       "  </tbody>\n",
       "</table>\n",
       "</div>"
      ],
      "text/plain": [
       "       População 2010  id_municipio   Unnamed: 0  Cód Mun. (IBGE)  \\\n",
       "count     1965.000000  1.968000e+03  1968.000000     1.968000e+03   \n",
       "mean      7430.321120  3.151934e+06  1378.855183     3.151934e+06   \n",
       "std       5997.466046  9.219697e+05   790.873832     9.219697e+05   \n",
       "min        805.000000  1.100031e+06     1.000000     1.100031e+06   \n",
       "25%       3507.000000  2.414196e+06   689.750000     2.414196e+06   \n",
       "50%       5522.000000  3.127379e+06  1410.500000     3.127379e+06   \n",
       "75%       9560.000000  3.555554e+06  2061.500000     3.555554e+06   \n",
       "max      59466.000000  5.222302e+06  2708.000000     5.222302e+06   \n",
       "\n",
       "          População  Ano (população IBGE)         IDHM  IDHM (Renda)  \\\n",
       "count   1968.000000                1968.0  1965.000000   1965.000000   \n",
       "mean    7546.584350                2022.0     0.638929      0.619236   \n",
       "std     6324.086979                   0.0     0.069655      0.076835   \n",
       "min      907.000000                2022.0     0.418000      0.400000   \n",
       "25%     3420.500000                2022.0     0.582000      0.554000   \n",
       "50%     5516.500000                2022.0     0.638000      0.619000   \n",
       "75%     9740.750000                2022.0     0.699000      0.682000   \n",
       "max    73019.000000                2022.0     0.795000      0.840000   \n",
       "\n",
       "       IDHM (Educação)  \n",
       "count      1965.000000  \n",
       "mean          0.535389  \n",
       "std           0.091738  \n",
       "min           0.207000  \n",
       "25%           0.468000  \n",
       "50%           0.531000  \n",
       "75%           0.604000  \n",
       "max           0.773000  "
      ]
     },
     "execution_count": 49,
     "metadata": {},
     "output_type": "execute_result"
    }
   ],
   "source": [
    "atlas.describe()"
   ]
  },
  {
   "cell_type": "code",
   "execution_count": 63,
   "id": "97dd0314-1739-4f3e-aa0a-5771acbe8dfa",
   "metadata": {},
   "outputs": [],
   "source": [
    "# Selecionando a linha 37\n",
    "row_37 = numero_jors.loc[37]\n",
    "\n",
    "# Encontrando as colunas onde o valor da linha 37 é 0\n",
    "columns_with_zero = row_37[row_37 == 0].index.tolist()\n",
    "\n",
    "df = pd.DataFrame(columns_with_zero, columns=['Município'])\n",
    "\n",
    "df = pd.merge(df, municipios, on=[\"Município\"])\n",
    "\n",
    "sem_real = pd.concat([nao_tem, df])"
   ]
  },
  {
   "cell_type": "code",
   "execution_count": 65,
   "id": "057b6e23",
   "metadata": {},
   "outputs": [],
   "source": [
    "#achando quem não tem jor e não é deserto\n",
    "\n",
    "municipios_desertos = set(desertos['id_municipio'])\n",
    "municipios_semjor = set(sem_real['id_municipio'])"
   ]
  },
  {
   "cell_type": "code",
   "execution_count": 67,
   "id": "31b9aa43",
   "metadata": {},
   "outputs": [],
   "source": [
    "semjornaodeserto = municipios_semjor.difference(municipios_desertos)"
   ]
  },
  {
   "cell_type": "code",
   "execution_count": 69,
   "id": "c656e9de",
   "metadata": {},
   "outputs": [],
   "source": [
    "semjornaodeserto = pd.DataFrame(semjornaodeserto, columns=['id_municipio'])\n",
    "atlas = pd.merge(semjornaodeserto, municipios, on='id_municipio')"
   ]
  },
  {
   "cell_type": "code",
   "execution_count": 71,
   "id": "6556cde7",
   "metadata": {},
   "outputs": [],
   "source": [
    "atlas.to_excel('atlas.xlsx')"
   ]
  },
  {
   "cell_type": "code",
   "execution_count": 73,
   "id": "55f9d019",
   "metadata": {
    "scrolled": true
   },
   "outputs": [
    {
     "data": {
      "text/plain": [
       "id_municipio      1833\n",
       "UF                1833\n",
       "Município         1833\n",
       "Região            1833\n",
       "População 2010    1831\n",
       "Porte             1833\n",
       "dtype: int64"
      ]
     },
     "execution_count": 73,
     "metadata": {},
     "output_type": "execute_result"
    }
   ],
   "source": [
    "atlas.count()"
   ]
  },
  {
   "cell_type": "markdown",
   "id": "ae2dfa26",
   "metadata": {},
   "source": [
    "### Média de indicadores trabalhistas"
   ]
  },
  {
   "cell_type": "code",
   "execution_count": 115,
   "id": "83984192",
   "metadata": {},
   "outputs": [
    {
     "data": {
      "text/html": [
       "<div>\n",
       "<style scoped>\n",
       "    .dataframe tbody tr th:only-of-type {\n",
       "        vertical-align: middle;\n",
       "    }\n",
       "\n",
       "    .dataframe tbody tr th {\n",
       "        vertical-align: top;\n",
       "    }\n",
       "\n",
       "    .dataframe thead th {\n",
       "        text-align: right;\n",
       "    }\n",
       "</style>\n",
       "<table border=\"1\" class=\"dataframe\">\n",
       "  <thead>\n",
       "    <tr style=\"text-align: right;\">\n",
       "      <th></th>\n",
       "      <th>ano</th>\n",
       "      <th>Município</th>\n",
       "      <th>Unnamed: 0</th>\n",
       "      <th>sexo</th>\n",
       "      <th>id_municipio</th>\n",
       "      <th>tempo_emprego</th>\n",
       "      <th>quantidade_horas_contratadas</th>\n",
       "      <th>valor_remuneracao_media_sm</th>\n",
       "      <th>cbo_2002</th>\n",
       "      <th>idade</th>\n",
       "      <th>tipo_vinculo</th>\n",
       "      <th>motivo_desligamento</th>\n",
       "      <th>tamanho_estabelecimento</th>\n",
       "      <th>grau_instrucao_1985_2005</th>\n",
       "      <th>grau_instrucao_apos_2005</th>\n",
       "      <th>População 2010</th>\n",
       "    </tr>\n",
       "  </thead>\n",
       "  <tbody>\n",
       "    <tr>\n",
       "      <th>0</th>\n",
       "      <td>1985</td>\n",
       "      <td>Abaeté</td>\n",
       "      <td>272730.500000</td>\n",
       "      <td>1.0</td>\n",
       "      <td>3100203.0</td>\n",
       "      <td>1.85</td>\n",
       "      <td>NaN</td>\n",
       "      <td>1.510</td>\n",
       "      <td>NaN</td>\n",
       "      <td>NaN</td>\n",
       "      <td>1.0</td>\n",
       "      <td>NaN</td>\n",
       "      <td>7.000000</td>\n",
       "      <td>5.5</td>\n",
       "      <td>NaN</td>\n",
       "      <td>22690.0</td>\n",
       "    </tr>\n",
       "    <tr>\n",
       "      <th>1</th>\n",
       "      <td>1985</td>\n",
       "      <td>Acaraú</td>\n",
       "      <td>59821.000000</td>\n",
       "      <td>2.0</td>\n",
       "      <td>2300200.0</td>\n",
       "      <td>16.50</td>\n",
       "      <td>NaN</td>\n",
       "      <td>0.990</td>\n",
       "      <td>NaN</td>\n",
       "      <td>NaN</td>\n",
       "      <td>1.0</td>\n",
       "      <td>NaN</td>\n",
       "      <td>4.000000</td>\n",
       "      <td>2.0</td>\n",
       "      <td>NaN</td>\n",
       "      <td>57551.0</td>\n",
       "    </tr>\n",
       "    <tr>\n",
       "      <th>2</th>\n",
       "      <td>1985</td>\n",
       "      <td>Adamantina</td>\n",
       "      <td>992179.000000</td>\n",
       "      <td>1.0</td>\n",
       "      <td>3500105.0</td>\n",
       "      <td>11.70</td>\n",
       "      <td>NaN</td>\n",
       "      <td>1.365</td>\n",
       "      <td>NaN</td>\n",
       "      <td>NaN</td>\n",
       "      <td>1.0</td>\n",
       "      <td>2.0</td>\n",
       "      <td>4.000000</td>\n",
       "      <td>8.0</td>\n",
       "      <td>NaN</td>\n",
       "      <td>33797.0</td>\n",
       "    </tr>\n",
       "    <tr>\n",
       "      <th>3</th>\n",
       "      <td>1985</td>\n",
       "      <td>Agudos</td>\n",
       "      <td>976019.000000</td>\n",
       "      <td>1.0</td>\n",
       "      <td>3500709.0</td>\n",
       "      <td>2.80</td>\n",
       "      <td>NaN</td>\n",
       "      <td>2.710</td>\n",
       "      <td>NaN</td>\n",
       "      <td>NaN</td>\n",
       "      <td>1.0</td>\n",
       "      <td>NaN</td>\n",
       "      <td>4.000000</td>\n",
       "      <td>9.0</td>\n",
       "      <td>NaN</td>\n",
       "      <td>34524.0</td>\n",
       "    </tr>\n",
       "    <tr>\n",
       "      <th>4</th>\n",
       "      <td>1985</td>\n",
       "      <td>Alegrete</td>\n",
       "      <td>281386.666667</td>\n",
       "      <td>1.0</td>\n",
       "      <td>4300406.0</td>\n",
       "      <td>6.80</td>\n",
       "      <td>NaN</td>\n",
       "      <td>1.100</td>\n",
       "      <td>NaN</td>\n",
       "      <td>NaN</td>\n",
       "      <td>1.0</td>\n",
       "      <td>NaN</td>\n",
       "      <td>4.666667</td>\n",
       "      <td>6.0</td>\n",
       "      <td>NaN</td>\n",
       "      <td>77653.0</td>\n",
       "    </tr>\n",
       "  </tbody>\n",
       "</table>\n",
       "</div>"
      ],
      "text/plain": [
       "    ano   Município     Unnamed: 0  sexo  id_municipio  tempo_emprego  \\\n",
       "0  1985      Abaeté  272730.500000   1.0     3100203.0           1.85   \n",
       "1  1985      Acaraú   59821.000000   2.0     2300200.0          16.50   \n",
       "2  1985  Adamantina  992179.000000   1.0     3500105.0          11.70   \n",
       "3  1985      Agudos  976019.000000   1.0     3500709.0           2.80   \n",
       "4  1985    Alegrete  281386.666667   1.0     4300406.0           6.80   \n",
       "\n",
       "   quantidade_horas_contratadas  valor_remuneracao_media_sm  cbo_2002  idade  \\\n",
       "0                           NaN                       1.510       NaN    NaN   \n",
       "1                           NaN                       0.990       NaN    NaN   \n",
       "2                           NaN                       1.365       NaN    NaN   \n",
       "3                           NaN                       2.710       NaN    NaN   \n",
       "4                           NaN                       1.100       NaN    NaN   \n",
       "\n",
       "   tipo_vinculo  motivo_desligamento  tamanho_estabelecimento  \\\n",
       "0           1.0                  NaN                 7.000000   \n",
       "1           1.0                  NaN                 4.000000   \n",
       "2           1.0                  2.0                 4.000000   \n",
       "3           1.0                  NaN                 4.000000   \n",
       "4           1.0                  NaN                 4.666667   \n",
       "\n",
       "   grau_instrucao_1985_2005  grau_instrucao_apos_2005  População 2010  \n",
       "0                       5.5                       NaN         22690.0  \n",
       "1                       2.0                       NaN         57551.0  \n",
       "2                       8.0                       NaN         33797.0  \n",
       "3                       9.0                       NaN         34524.0  \n",
       "4                       6.0                       NaN         77653.0  "
      ]
     },
     "execution_count": 115,
     "metadata": {},
     "output_type": "execute_result"
    }
   ],
   "source": [
    "contagem = ratier.select_dtypes(include=[np.number])\n",
    "contagem['Município'] = ratier['Município']\n",
    "contagem = contagem.groupby(['ano', 'Município']).mean().reset_index()\n",
    "contagem.head()"
   ]
  },
  {
   "cell_type": "code",
   "execution_count": 117,
   "id": "fefd5024",
   "metadata": {},
   "outputs": [
    {
     "name": "stderr",
     "output_type": "stream",
     "text": [
      "C:\\Users\\Diogo\\AppData\\Local\\Temp\\ipykernel_26088\\3675831193.py:1: UserWarning: You are merging on int and float columns where the float values are not equal to their int representation.\n",
      "  contagem = pd.merge(contagem, municipios, on='id_municipio')\n"
     ]
    }
   ],
   "source": [
    "contagem = pd.merge(contagem, municipios, on='id_municipio')"
   ]
  },
  {
   "cell_type": "code",
   "execution_count": 87,
   "id": "8a8e4100",
   "metadata": {},
   "outputs": [],
   "source": [
    "contagem.to_excel('ind_mun.xlsx')"
   ]
  },
  {
   "cell_type": "markdown",
   "id": "2aa8dd6f",
   "metadata": {},
   "source": [
    "### Média de indicadores por estado"
   ]
  },
  {
   "cell_type": "code",
   "execution_count": 129,
   "id": "04ee47ab",
   "metadata": {
    "scrolled": true
   },
   "outputs": [
    {
     "data": {
      "text/html": [
       "<div>\n",
       "<style scoped>\n",
       "    .dataframe tbody tr th:only-of-type {\n",
       "        vertical-align: middle;\n",
       "    }\n",
       "\n",
       "    .dataframe tbody tr th {\n",
       "        vertical-align: top;\n",
       "    }\n",
       "\n",
       "    .dataframe thead th {\n",
       "        text-align: right;\n",
       "    }\n",
       "</style>\n",
       "<table border=\"1\" class=\"dataframe\">\n",
       "  <thead>\n",
       "    <tr style=\"text-align: right;\">\n",
       "      <th></th>\n",
       "      <th>ano</th>\n",
       "      <th>UF</th>\n",
       "      <th>Unnamed: 0</th>\n",
       "      <th>sexo</th>\n",
       "      <th>id_municipio</th>\n",
       "      <th>tempo_emprego</th>\n",
       "      <th>quantidade_horas_contratadas</th>\n",
       "      <th>valor_remuneracao_media_sm</th>\n",
       "      <th>cbo_2002</th>\n",
       "      <th>idade</th>\n",
       "      <th>tipo_vinculo</th>\n",
       "      <th>motivo_desligamento</th>\n",
       "      <th>tamanho_estabelecimento</th>\n",
       "      <th>grau_instrucao_1985_2005</th>\n",
       "      <th>grau_instrucao_apos_2005</th>\n",
       "      <th>População 2010</th>\n",
       "    </tr>\n",
       "  </thead>\n",
       "  <tbody>\n",
       "    <tr>\n",
       "      <th>0</th>\n",
       "      <td>1985</td>\n",
       "      <td>AC</td>\n",
       "      <td>5268.450000</td>\n",
       "      <td>1.250000</td>\n",
       "      <td>1.200401e+06</td>\n",
       "      <td>3.875000</td>\n",
       "      <td>NaN</td>\n",
       "      <td>6.454500</td>\n",
       "      <td>NaN</td>\n",
       "      <td>NaN</td>\n",
       "      <td>1.000000</td>\n",
       "      <td>5.000000</td>\n",
       "      <td>6.400000</td>\n",
       "      <td>7.550000</td>\n",
       "      <td>NaN</td>\n",
       "      <td>3.360380e+05</td>\n",
       "    </tr>\n",
       "    <tr>\n",
       "      <th>1</th>\n",
       "      <td>1985</td>\n",
       "      <td>AL</td>\n",
       "      <td>6021.611111</td>\n",
       "      <td>1.222222</td>\n",
       "      <td>2.704109e+06</td>\n",
       "      <td>6.172222</td>\n",
       "      <td>NaN</td>\n",
       "      <td>3.890000</td>\n",
       "      <td>NaN</td>\n",
       "      <td>NaN</td>\n",
       "      <td>1.055556</td>\n",
       "      <td>2.700000</td>\n",
       "      <td>6.240741</td>\n",
       "      <td>8.166667</td>\n",
       "      <td>NaN</td>\n",
       "      <td>8.852837e+05</td>\n",
       "    </tr>\n",
       "    <tr>\n",
       "      <th>2</th>\n",
       "      <td>1985</td>\n",
       "      <td>AM</td>\n",
       "      <td>4480.478723</td>\n",
       "      <td>1.755319</td>\n",
       "      <td>1.302603e+06</td>\n",
       "      <td>4.851596</td>\n",
       "      <td>NaN</td>\n",
       "      <td>3.773404</td>\n",
       "      <td>NaN</td>\n",
       "      <td>NaN</td>\n",
       "      <td>1.005319</td>\n",
       "      <td>1.100000</td>\n",
       "      <td>8.696809</td>\n",
       "      <td>4.553191</td>\n",
       "      <td>NaN</td>\n",
       "      <td>1.802014e+06</td>\n",
       "    </tr>\n",
       "    <tr>\n",
       "      <th>3</th>\n",
       "      <td>1985</td>\n",
       "      <td>AP</td>\n",
       "      <td>3733.333333</td>\n",
       "      <td>1.000000</td>\n",
       "      <td>1.600303e+06</td>\n",
       "      <td>8.700000</td>\n",
       "      <td>NaN</td>\n",
       "      <td>6.210000</td>\n",
       "      <td>NaN</td>\n",
       "      <td>NaN</td>\n",
       "      <td>1.000000</td>\n",
       "      <td>NaN</td>\n",
       "      <td>5.000000</td>\n",
       "      <td>4.000000</td>\n",
       "      <td>NaN</td>\n",
       "      <td>3.982040e+05</td>\n",
       "    </tr>\n",
       "    <tr>\n",
       "      <th>4</th>\n",
       "      <td>1985</td>\n",
       "      <td>BA</td>\n",
       "      <td>85754.870690</td>\n",
       "      <td>1.310345</td>\n",
       "      <td>2.922781e+06</td>\n",
       "      <td>3.351724</td>\n",
       "      <td>NaN</td>\n",
       "      <td>6.903707</td>\n",
       "      <td>NaN</td>\n",
       "      <td>NaN</td>\n",
       "      <td>1.012987</td>\n",
       "      <td>3.030303</td>\n",
       "      <td>6.370690</td>\n",
       "      <td>8.000000</td>\n",
       "      <td>NaN</td>\n",
       "      <td>1.991363e+06</td>\n",
       "    </tr>\n",
       "  </tbody>\n",
       "</table>\n",
       "</div>"
      ],
      "text/plain": [
       "    ano  UF    Unnamed: 0      sexo  id_municipio  tempo_emprego  \\\n",
       "0  1985  AC   5268.450000  1.250000  1.200401e+06       3.875000   \n",
       "1  1985  AL   6021.611111  1.222222  2.704109e+06       6.172222   \n",
       "2  1985  AM   4480.478723  1.755319  1.302603e+06       4.851596   \n",
       "3  1985  AP   3733.333333  1.000000  1.600303e+06       8.700000   \n",
       "4  1985  BA  85754.870690  1.310345  2.922781e+06       3.351724   \n",
       "\n",
       "   quantidade_horas_contratadas  valor_remuneracao_media_sm  cbo_2002  idade  \\\n",
       "0                           NaN                    6.454500       NaN    NaN   \n",
       "1                           NaN                    3.890000       NaN    NaN   \n",
       "2                           NaN                    3.773404       NaN    NaN   \n",
       "3                           NaN                    6.210000       NaN    NaN   \n",
       "4                           NaN                    6.903707       NaN    NaN   \n",
       "\n",
       "   tipo_vinculo  motivo_desligamento  tamanho_estabelecimento  \\\n",
       "0      1.000000             5.000000                 6.400000   \n",
       "1      1.055556             2.700000                 6.240741   \n",
       "2      1.005319             1.100000                 8.696809   \n",
       "3      1.000000                  NaN                 5.000000   \n",
       "4      1.012987             3.030303                 6.370690   \n",
       "\n",
       "   grau_instrucao_1985_2005  grau_instrucao_apos_2005  População 2010  \n",
       "0                  7.550000                       NaN    3.360380e+05  \n",
       "1                  8.166667                       NaN    8.852837e+05  \n",
       "2                  4.553191                       NaN    1.802014e+06  \n",
       "3                  4.000000                       NaN    3.982040e+05  \n",
       "4                  8.000000                       NaN    1.991363e+06  "
      ]
     },
     "execution_count": 129,
     "metadata": {},
     "output_type": "execute_result"
    }
   ],
   "source": [
    "contagem = ratier.select_dtypes(include=[np.number])\n",
    "contagem['UF'] = ratier['UF']\n",
    "contagem = contagem.groupby(['ano', 'UF']).mean().reset_index()\n",
    "contagem.head()"
   ]
  },
  {
   "cell_type": "code",
   "execution_count": 121,
   "id": "1d2fb02e",
   "metadata": {},
   "outputs": [
    {
     "name": "stderr",
     "output_type": "stream",
     "text": [
      "C:\\Users\\Diogo\\AppData\\Local\\Temp\\ipykernel_26088\\1690318220.py:1: UserWarning: You are merging on int and float columns where the float values are not equal to their int representation.\n",
      "  contagem = pd.merge(contagem, municipios, on='id_municipio')\n"
     ]
    }
   ],
   "source": [
    "contagem = pd.merge(contagem, municipios, on='id_municipio')\n",
    "contagem.to_excel('ind_uf.xlsx')"
   ]
  },
  {
   "cell_type": "markdown",
   "id": "e1261807",
   "metadata": {},
   "source": [
    "### Onde só trabalham assessores"
   ]
  },
  {
   "cell_type": "code",
   "execution_count": 131,
   "id": "c9bb4af6-30e0-4cf1-b5af-5f9bed125a62",
   "metadata": {},
   "outputs": [],
   "source": [
    "#dados da RAIS\n",
    "\n",
    "ratier = pd.read_csv(r\"C:\\Users\\Diogo\\Downloads\\ratier.csv\", sep=';')\n",
    "\n",
    "#merge com nome de municipios\n",
    "municipios = pd.read_csv(r\"C:\\Users\\Diogo\\Downloads\\Lista_Municípios_com_IBGE_Brasil_Versao_CSV.csv\", sep=';', encoding='latin1')\n",
    "municipios['id_municipio'] = municipios['IBGE7']\n",
    "municipios = municipios.drop(columns=['Capital', 'IBGE', 'IBGE7', 'ConcatUF+Mun'])\n",
    "ratier = pd.merge(ratier, municipios, on='id_municipio')"
   ]
  },
  {
   "cell_type": "code",
   "execution_count": 133,
   "id": "5feada2a",
   "metadata": {},
   "outputs": [
    {
     "data": {
      "text/html": [
       "<div>\n",
       "<style scoped>\n",
       "    .dataframe tbody tr th:only-of-type {\n",
       "        vertical-align: middle;\n",
       "    }\n",
       "\n",
       "    .dataframe tbody tr th {\n",
       "        vertical-align: top;\n",
       "    }\n",
       "\n",
       "    .dataframe thead th {\n",
       "        text-align: right;\n",
       "    }\n",
       "</style>\n",
       "<table border=\"1\" class=\"dataframe\">\n",
       "  <thead>\n",
       "    <tr style=\"text-align: right;\">\n",
       "      <th></th>\n",
       "      <th>ano</th>\n",
       "      <th>cbo_2002</th>\n",
       "      <th>Município</th>\n",
       "      <th>contagem</th>\n",
       "    </tr>\n",
       "  </thead>\n",
       "  <tbody>\n",
       "    <tr>\n",
       "      <th>0</th>\n",
       "      <td>2003</td>\n",
       "      <td>261105.0</td>\n",
       "      <td>Alfenas</td>\n",
       "      <td>1</td>\n",
       "    </tr>\n",
       "    <tr>\n",
       "      <th>1</th>\n",
       "      <td>2003</td>\n",
       "      <td>261105.0</td>\n",
       "      <td>Aracaju</td>\n",
       "      <td>7</td>\n",
       "    </tr>\n",
       "    <tr>\n",
       "      <th>2</th>\n",
       "      <td>2003</td>\n",
       "      <td>261105.0</td>\n",
       "      <td>Araçatuba</td>\n",
       "      <td>1</td>\n",
       "    </tr>\n",
       "    <tr>\n",
       "      <th>3</th>\n",
       "      <td>2003</td>\n",
       "      <td>261105.0</td>\n",
       "      <td>Açu</td>\n",
       "      <td>3</td>\n",
       "    </tr>\n",
       "    <tr>\n",
       "      <th>4</th>\n",
       "      <td>2003</td>\n",
       "      <td>261105.0</td>\n",
       "      <td>Barra Bonita</td>\n",
       "      <td>5</td>\n",
       "    </tr>\n",
       "  </tbody>\n",
       "</table>\n",
       "</div>"
      ],
      "text/plain": [
       "    ano  cbo_2002     Município  contagem\n",
       "0  2003  261105.0       Alfenas         1\n",
       "1  2003  261105.0       Aracaju         7\n",
       "2  2003  261105.0     Araçatuba         1\n",
       "3  2003  261105.0           Açu         3\n",
       "4  2003  261105.0  Barra Bonita         5"
      ]
     },
     "execution_count": 133,
     "metadata": {},
     "output_type": "execute_result"
    }
   ],
   "source": [
    "ass = ratier.groupby(['ano', 'cbo_2002', 'Município']).size().reset_index(name='contagem')\n",
    "ass.head()"
   ]
  },
  {
   "cell_type": "code",
   "execution_count": 135,
   "id": "838ad755",
   "metadata": {},
   "outputs": [],
   "source": [
    "soass = ass.loc[(ass['cbo_2002'] != 21110) & (ass['contagem'] == 0)]"
   ]
  },
  {
   "cell_type": "code",
   "execution_count": 137,
   "id": "18dea5be",
   "metadata": {
    "scrolled": true
   },
   "outputs": [
    {
     "data": {
      "text/html": [
       "<div>\n",
       "<style scoped>\n",
       "    .dataframe tbody tr th:only-of-type {\n",
       "        vertical-align: middle;\n",
       "    }\n",
       "\n",
       "    .dataframe tbody tr th {\n",
       "        vertical-align: top;\n",
       "    }\n",
       "\n",
       "    .dataframe thead th {\n",
       "        text-align: right;\n",
       "    }\n",
       "</style>\n",
       "<table border=\"1\" class=\"dataframe\">\n",
       "  <thead>\n",
       "    <tr style=\"text-align: right;\">\n",
       "      <th></th>\n",
       "      <th>ano</th>\n",
       "      <th>cbo_2002</th>\n",
       "      <th>contagem</th>\n",
       "    </tr>\n",
       "  </thead>\n",
       "  <tbody>\n",
       "    <tr>\n",
       "      <th>count</th>\n",
       "      <td>0.0</td>\n",
       "      <td>0.0</td>\n",
       "      <td>0.0</td>\n",
       "    </tr>\n",
       "    <tr>\n",
       "      <th>mean</th>\n",
       "      <td>NaN</td>\n",
       "      <td>NaN</td>\n",
       "      <td>NaN</td>\n",
       "    </tr>\n",
       "    <tr>\n",
       "      <th>std</th>\n",
       "      <td>NaN</td>\n",
       "      <td>NaN</td>\n",
       "      <td>NaN</td>\n",
       "    </tr>\n",
       "    <tr>\n",
       "      <th>min</th>\n",
       "      <td>NaN</td>\n",
       "      <td>NaN</td>\n",
       "      <td>NaN</td>\n",
       "    </tr>\n",
       "    <tr>\n",
       "      <th>25%</th>\n",
       "      <td>NaN</td>\n",
       "      <td>NaN</td>\n",
       "      <td>NaN</td>\n",
       "    </tr>\n",
       "    <tr>\n",
       "      <th>50%</th>\n",
       "      <td>NaN</td>\n",
       "      <td>NaN</td>\n",
       "      <td>NaN</td>\n",
       "    </tr>\n",
       "    <tr>\n",
       "      <th>75%</th>\n",
       "      <td>NaN</td>\n",
       "      <td>NaN</td>\n",
       "      <td>NaN</td>\n",
       "    </tr>\n",
       "    <tr>\n",
       "      <th>max</th>\n",
       "      <td>NaN</td>\n",
       "      <td>NaN</td>\n",
       "      <td>NaN</td>\n",
       "    </tr>\n",
       "  </tbody>\n",
       "</table>\n",
       "</div>"
      ],
      "text/plain": [
       "       ano  cbo_2002  contagem\n",
       "count  0.0       0.0       0.0\n",
       "mean   NaN       NaN       NaN\n",
       "std    NaN       NaN       NaN\n",
       "min    NaN       NaN       NaN\n",
       "25%    NaN       NaN       NaN\n",
       "50%    NaN       NaN       NaN\n",
       "75%    NaN       NaN       NaN\n",
       "max    NaN       NaN       NaN"
      ]
     },
     "execution_count": 137,
     "metadata": {},
     "output_type": "execute_result"
    }
   ],
   "source": [
    "soass.describe()"
   ]
  },
  {
   "cell_type": "markdown",
   "id": "18561260",
   "metadata": {},
   "source": [
    "## Desertos de notícias que não têm jornalistas registrados"
   ]
  },
  {
   "cell_type": "code",
   "execution_count": 139,
   "id": "279ae388",
   "metadata": {},
   "outputs": [],
   "source": [
    "#achando quem não tem jor e não é deserto\n",
    "\n",
    "municipios_desertos = set(desertos['id_municipio'])\n",
    "municipios_comjor = set(atlas['id_municipio'])\n",
    "\n",
    "desertodeserto = municipios_desertos.difference(municipios_comjor)\n",
    "\n",
    "desertodeserto = pd.DataFrame(desertodeserto, columns=['id_municipio'])\n",
    "desertao = pd.merge(desertodeserto, municipios, on='id_municipio')"
   ]
  },
  {
   "cell_type": "code",
   "execution_count": 141,
   "id": "73850828",
   "metadata": {},
   "outputs": [
    {
     "data": {
      "text/html": [
       "<div>\n",
       "<style scoped>\n",
       "    .dataframe tbody tr th:only-of-type {\n",
       "        vertical-align: middle;\n",
       "    }\n",
       "\n",
       "    .dataframe tbody tr th {\n",
       "        vertical-align: top;\n",
       "    }\n",
       "\n",
       "    .dataframe thead th {\n",
       "        text-align: right;\n",
       "    }\n",
       "</style>\n",
       "<table border=\"1\" class=\"dataframe\">\n",
       "  <thead>\n",
       "    <tr style=\"text-align: right;\">\n",
       "      <th></th>\n",
       "      <th>id_municipio</th>\n",
       "      <th>UF</th>\n",
       "      <th>Município</th>\n",
       "      <th>Região</th>\n",
       "      <th>População 2010</th>\n",
       "      <th>Porte</th>\n",
       "    </tr>\n",
       "  </thead>\n",
       "  <tbody>\n",
       "    <tr>\n",
       "      <th>2654</th>\n",
       "      <td>3112802</td>\n",
       "      <td>MG</td>\n",
       "      <td>Capitólio</td>\n",
       "      <td>Região Sudeste</td>\n",
       "      <td>8183.0</td>\n",
       "      <td>Pequeno I</td>\n",
       "    </tr>\n",
       "  </tbody>\n",
       "</table>\n",
       "</div>"
      ],
      "text/plain": [
       "      id_municipio  UF  Município          Região  População 2010      Porte\n",
       "2654       3112802  MG  Capitólio  Região Sudeste          8183.0  Pequeno I"
      ]
     },
     "execution_count": 141,
     "metadata": {},
     "output_type": "execute_result"
    }
   ],
   "source": [
    "desertao.loc[(desertao['Município'] == \"Capitólio\")]"
   ]
  },
  {
   "cell_type": "markdown",
   "id": "c96ef8ee",
   "metadata": {},
   "source": [
    "## Mapeamento de todos os veículos do país"
   ]
  },
  {
   "cell_type": "code",
   "execution_count": 143,
   "id": "672b389d",
   "metadata": {},
   "outputs": [
    {
     "data": {
      "text/html": [
       "<div>\n",
       "<style scoped>\n",
       "    .dataframe tbody tr th:only-of-type {\n",
       "        vertical-align: middle;\n",
       "    }\n",
       "\n",
       "    .dataframe tbody tr th {\n",
       "        vertical-align: top;\n",
       "    }\n",
       "\n",
       "    .dataframe thead th {\n",
       "        text-align: right;\n",
       "    }\n",
       "</style>\n",
       "<table border=\"1\" class=\"dataframe\">\n",
       "  <thead>\n",
       "    <tr style=\"text-align: right;\">\n",
       "      <th></th>\n",
       "      <th>id</th>\n",
       "      <th>Nome do Veículo</th>\n",
       "      <th>Fonte</th>\n",
       "      <th>Segmento</th>\n",
       "      <th>Município</th>\n",
       "      <th>Cód Mun. (IBGE)</th>\n",
       "      <th>UF</th>\n",
       "      <th>Região</th>\n",
       "      <th>Núm. Funcionários</th>\n",
       "      <th>Periodicidade</th>\n",
       "      <th>Ativo</th>\n",
       "      <th>Data de Atualização</th>\n",
       "      <th>Data de Fechamento</th>\n",
       "      <th>id_municipio</th>\n",
       "    </tr>\n",
       "  </thead>\n",
       "  <tbody>\n",
       "    <tr>\n",
       "      <th>0</th>\n",
       "      <td>17305</td>\n",
       "      <td>JORNAL O ALTO ACRE</td>\n",
       "      <td>Atlas da Notícia</td>\n",
       "      <td>impresso</td>\n",
       "      <td>Brasiléia</td>\n",
       "      <td>1200104</td>\n",
       "      <td>AC</td>\n",
       "      <td>Norte</td>\n",
       "      <td>NaN</td>\n",
       "      <td>diária</td>\n",
       "      <td>Ativo</td>\n",
       "      <td>2023-05-05T14:07:32Z</td>\n",
       "      <td>NaN</td>\n",
       "      <td>1200104</td>\n",
       "    </tr>\n",
       "    <tr>\n",
       "      <th>1</th>\n",
       "      <td>14030</td>\n",
       "      <td>JURUÁ EM TEMPO</td>\n",
       "      <td>Atlas da Notícia</td>\n",
       "      <td>impresso</td>\n",
       "      <td>Cruzeiro do Sul</td>\n",
       "      <td>1200203</td>\n",
       "      <td>AC</td>\n",
       "      <td>Norte</td>\n",
       "      <td>1 a 5 colaboradores</td>\n",
       "      <td>diária</td>\n",
       "      <td>Ativo</td>\n",
       "      <td>2019-11-25T04:41:23Z</td>\n",
       "      <td>NaN</td>\n",
       "      <td>1200203</td>\n",
       "    </tr>\n",
       "    <tr>\n",
       "      <th>2</th>\n",
       "      <td>14068</td>\n",
       "      <td>VOZ DO NORTE</td>\n",
       "      <td>Atlas da Notícia</td>\n",
       "      <td>impresso</td>\n",
       "      <td>Cruzeiro do Sul</td>\n",
       "      <td>1200203</td>\n",
       "      <td>AC</td>\n",
       "      <td>Norte</td>\n",
       "      <td>NaN</td>\n",
       "      <td>diária</td>\n",
       "      <td>Fechado</td>\n",
       "      <td>2019-11-26T00:13:43Z</td>\n",
       "      <td>2018-01</td>\n",
       "      <td>1200203</td>\n",
       "    </tr>\n",
       "    <tr>\n",
       "      <th>3</th>\n",
       "      <td>9</td>\n",
       "      <td>PAGINA 20</td>\n",
       "      <td>Atlas da Notícia</td>\n",
       "      <td>impresso</td>\n",
       "      <td>Rio Branco</td>\n",
       "      <td>1200401</td>\n",
       "      <td>AC</td>\n",
       "      <td>Norte</td>\n",
       "      <td>NaN</td>\n",
       "      <td>outra</td>\n",
       "      <td>Ativo</td>\n",
       "      <td>2019-10-22T00:33:45Z</td>\n",
       "      <td>NaN</td>\n",
       "      <td>1200401</td>\n",
       "    </tr>\n",
       "    <tr>\n",
       "      <th>4</th>\n",
       "      <td>10</td>\n",
       "      <td>A GAZETA</td>\n",
       "      <td>Atlas da Notícia</td>\n",
       "      <td>impresso</td>\n",
       "      <td>Rio Branco</td>\n",
       "      <td>1200401</td>\n",
       "      <td>AC</td>\n",
       "      <td>Norte</td>\n",
       "      <td>NaN</td>\n",
       "      <td>outra</td>\n",
       "      <td>Ativo</td>\n",
       "      <td>2019-10-22T00:33:45Z</td>\n",
       "      <td>NaN</td>\n",
       "      <td>1200401</td>\n",
       "    </tr>\n",
       "  </tbody>\n",
       "</table>\n",
       "</div>"
      ],
      "text/plain": [
       "      id     Nome do Veículo             Fonte  Segmento        Município  \\\n",
       "0  17305  JORNAL O ALTO ACRE  Atlas da Notícia  impresso        Brasiléia   \n",
       "1  14030      JURUÁ EM TEMPO  Atlas da Notícia  impresso  Cruzeiro do Sul   \n",
       "2  14068        VOZ DO NORTE  Atlas da Notícia  impresso  Cruzeiro do Sul   \n",
       "3      9           PAGINA 20  Atlas da Notícia  impresso       Rio Branco   \n",
       "4     10            A GAZETA  Atlas da Notícia  impresso       Rio Branco   \n",
       "\n",
       "   Cód Mun. (IBGE)  UF Região    Núm. Funcionários Periodicidade    Ativo  \\\n",
       "0          1200104  AC  Norte                  NaN        diária    Ativo   \n",
       "1          1200203  AC  Norte  1 a 5 colaboradores        diária    Ativo   \n",
       "2          1200203  AC  Norte                  NaN        diária  Fechado   \n",
       "3          1200401  AC  Norte                  NaN         outra    Ativo   \n",
       "4          1200401  AC  Norte                  NaN         outra    Ativo   \n",
       "\n",
       "    Data de Atualização Data de Fechamento  id_municipio  \n",
       "0  2023-05-05T14:07:32Z                NaN       1200104  \n",
       "1  2019-11-25T04:41:23Z                NaN       1200203  \n",
       "2  2019-11-26T00:13:43Z            2018-01       1200203  \n",
       "3  2019-10-22T00:33:45Z                NaN       1200401  \n",
       "4  2019-10-22T00:33:45Z                NaN       1200401  "
      ]
     },
     "execution_count": 143,
     "metadata": {},
     "output_type": "execute_result"
    }
   ],
   "source": [
    "veiculos = pd.read_csv(r\"C:\\Users\\Diogo\\Downloads\\csv (1).csv\")\n",
    "veiculos['id_municipio'] = veiculos['Cód Mun. (IBGE)']\n",
    "veiculos.head()"
   ]
  },
  {
   "cell_type": "code",
   "execution_count": 145,
   "id": "649e38c9",
   "metadata": {},
   "outputs": [],
   "source": [
    "veiculos_atlas = pd.merge(atlas, veiculos, on=['id_municipio'])"
   ]
  },
  {
   "cell_type": "code",
   "execution_count": 147,
   "id": "a3df1b4e",
   "metadata": {},
   "outputs": [
    {
     "data": {
      "text/plain": [
       "Segmento\n",
       "radio        1702\n",
       "online       1430\n",
       "impresso      750\n",
       "televisao     165\n",
       "Name: count, dtype: int64"
      ]
     },
     "execution_count": 147,
     "metadata": {},
     "output_type": "execute_result"
    }
   ],
   "source": [
    "veiculos_atlas['Segmento'].value_counts()"
   ]
  },
  {
   "cell_type": "code",
   "execution_count": 149,
   "id": "2dd21975",
   "metadata": {},
   "outputs": [
    {
     "data": {
      "text/plain": [
       "id_municipio      0.643753\n",
       "UF                0.643753\n",
       "Município         0.643753\n",
       "Região            0.643753\n",
       "População 2010    0.644457\n",
       "Porte             0.643753\n",
       "dtype: float64"
      ]
     },
     "execution_count": 149,
     "metadata": {},
     "output_type": "execute_result"
    }
   ],
   "source": [
    "radio = veiculos_atlas[veiculos_atlas['Segmento'] == 'radio']\n",
    "radio = radio['id_municipio'].unique()\n",
    "len(radio)/atlas.count()"
   ]
  },
  {
   "cell_type": "code",
   "execution_count": 151,
   "id": "2a821419",
   "metadata": {},
   "outputs": [
    {
     "data": {
      "text/plain": [
       "id_municipio      0.074741\n",
       "UF                0.074741\n",
       "Município         0.074741\n",
       "Região            0.074741\n",
       "População 2010    0.074823\n",
       "Porte             0.074741\n",
       "dtype: float64"
      ]
     },
     "execution_count": 151,
     "metadata": {},
     "output_type": "execute_result"
    }
   ],
   "source": [
    "radio = veiculos_atlas[veiculos_atlas['Segmento'] == 'televisao']\n",
    "radio = radio['id_municipio'].unique()\n",
    "len(radio)/atlas.count()"
   ]
  },
  {
   "cell_type": "markdown",
   "id": "62b05987",
   "metadata": {},
   "source": [
    "### Dados sobre MEIs"
   ]
  },
  {
   "cell_type": "code",
   "execution_count": 153,
   "id": "89850f52",
   "metadata": {},
   "outputs": [
    {
     "name": "stdout",
     "output_type": "stream",
     "text": [
      "        MUNICIPIO     CNAE  TOTAL\n",
      "0      ACRELANDIA  9602502      5\n",
      "1      ACRELANDIA  9602501     25\n",
      "2      ACRELANDIA  9529104      1\n",
      "3      ACRELANDIA  9529102      1\n",
      "4      ACRELANDIA  9521500      1\n",
      "...           ...      ...    ...\n",
      "64552      XAPURI  1096100      1\n",
      "64553      XAPURI  1091102      1\n",
      "64554      XAPURI  1091101      1\n",
      "64555      XAPURI   161003      3\n",
      "64556      XAPURI   159802      1\n",
      "\n",
      "[64557 rows x 3 columns]\n"
     ]
    }
   ],
   "source": [
    "import os\n",
    "\n",
    "def read_multiple_csvs(directory_path):\n",
    "    # Listar todos os arquivos no diretório\n",
    "    files = os.listdir(directory_path)\n",
    "    \n",
    "    # Filtrar apenas os arquivos CSV\n",
    "    csv_files = [file for file in files if file.endswith('.csv')]\n",
    "    \n",
    "    # Lista para armazenar DataFrames\n",
    "    dataframes = []\n",
    "    \n",
    "    # Ler cada arquivo CSV e adicioná-lo à lista de DataFrames\n",
    "    for csv_file in csv_files:\n",
    "        file_path = os.path.join(directory_path, csv_file)\n",
    "        df = pd.read_csv(file_path)\n",
    "        dataframes.append(df)\n",
    "    \n",
    "    # Concatenar todos os DataFrames em um único DataFrame\n",
    "    combined_df = pd.concat(dataframes, ignore_index=True)\n",
    "    \n",
    "    return combined_df\n",
    "\n",
    "# Usar a função para ler todos os CSVs em um diretório específico\n",
    "directory_path = r\"C:\\Users\\Diogo\\Downloads\\MEI\"\n",
    "combined_df = read_multiple_csvs(directory_path)\n",
    "\n",
    "# Exibir o DataFrame combinado\n",
    "print(combined_df)"
   ]
  },
  {
   "cell_type": "code",
   "execution_count": 155,
   "id": "94c364a7",
   "metadata": {},
   "outputs": [],
   "source": [
    "combined_df = pd.DataFrame(combined_df)"
   ]
  },
  {
   "cell_type": "code",
   "execution_count": 157,
   "id": "02e96792",
   "metadata": {},
   "outputs": [
    {
     "data": {
      "text/html": [
       "<div>\n",
       "<style scoped>\n",
       "    .dataframe tbody tr th:only-of-type {\n",
       "        vertical-align: middle;\n",
       "    }\n",
       "\n",
       "    .dataframe tbody tr th {\n",
       "        vertical-align: top;\n",
       "    }\n",
       "\n",
       "    .dataframe thead th {\n",
       "        text-align: right;\n",
       "    }\n",
       "</style>\n",
       "<table border=\"1\" class=\"dataframe\">\n",
       "  <thead>\n",
       "    <tr style=\"text-align: right;\">\n",
       "      <th></th>\n",
       "      <th>MUNICIPIO</th>\n",
       "      <th>CNAE</th>\n",
       "      <th>TOTAL</th>\n",
       "    </tr>\n",
       "  </thead>\n",
       "  <tbody>\n",
       "    <tr>\n",
       "      <th>0</th>\n",
       "      <td>ACRELANDIA</td>\n",
       "      <td>9602502</td>\n",
       "      <td>5</td>\n",
       "    </tr>\n",
       "    <tr>\n",
       "      <th>1</th>\n",
       "      <td>ACRELANDIA</td>\n",
       "      <td>9602501</td>\n",
       "      <td>25</td>\n",
       "    </tr>\n",
       "    <tr>\n",
       "      <th>2</th>\n",
       "      <td>ACRELANDIA</td>\n",
       "      <td>9529104</td>\n",
       "      <td>1</td>\n",
       "    </tr>\n",
       "    <tr>\n",
       "      <th>3</th>\n",
       "      <td>ACRELANDIA</td>\n",
       "      <td>9529102</td>\n",
       "      <td>1</td>\n",
       "    </tr>\n",
       "    <tr>\n",
       "      <th>4</th>\n",
       "      <td>ACRELANDIA</td>\n",
       "      <td>9521500</td>\n",
       "      <td>1</td>\n",
       "    </tr>\n",
       "  </tbody>\n",
       "</table>\n",
       "</div>"
      ],
      "text/plain": [
       "    MUNICIPIO     CNAE  TOTAL\n",
       "0  ACRELANDIA  9602502      5\n",
       "1  ACRELANDIA  9602501     25\n",
       "2  ACRELANDIA  9529104      1\n",
       "3  ACRELANDIA  9529102      1\n",
       "4  ACRELANDIA  9521500      1"
      ]
     },
     "execution_count": 157,
     "metadata": {},
     "output_type": "execute_result"
    }
   ],
   "source": [
    "combined_df.head()"
   ]
  },
  {
   "cell_type": "code",
   "execution_count": 159,
   "id": "0b5f8c4e",
   "metadata": {},
   "outputs": [],
   "source": [
    "meis = combined_df.loc[(combined_df['CNAE'] == 7420001) | (combined_df['CNAE'] == 5811500) | (combined_df['CNAE'] == 5811300) | (combined_df['CNAE'] == 5811302) | (combined_df['CNAE'] == 8219999) | (combined_df['CNAE'] == 9609299)]"
   ]
  },
  {
   "cell_type": "code",
   "execution_count": 161,
   "id": "0e09f08f",
   "metadata": {},
   "outputs": [],
   "source": [
    "# Selecionando a linha 37\n",
    "row_37 = numero_jors.loc[37]\n",
    "row_18 = numero_jors.loc[18]\n",
    "\n",
    "# Encontrando as colunas onde o valor da linha 37 é 0\n",
    "zero_37 = row_37[row_37 == 0].index.tolist()\n",
    "\n",
    "\n",
    "# Encontrando as colunas onde o valor da linha 18 não é 0\n",
    "zero_18 = row_18[row_18 != 0].index.tolist()\n",
    "\n",
    "zeraram = set(zero_18).intersection(set(zero_37))"
   ]
  },
  {
   "cell_type": "code",
   "execution_count": 163,
   "id": "a13f32cd",
   "metadata": {},
   "outputs": [
    {
     "data": {
      "text/plain": [
       "160"
      ]
     },
     "execution_count": 163,
     "metadata": {},
     "output_type": "execute_result"
    }
   ],
   "source": [
    "len(zeraram)"
   ]
  },
  {
   "cell_type": "code",
   "execution_count": 165,
   "id": "0e98f428",
   "metadata": {},
   "outputs": [
    {
     "name": "stderr",
     "output_type": "stream",
     "text": [
      "C:\\Users\\Diogo\\AppData\\Local\\Temp\\ipykernel_26088\\690568987.py:7: SettingWithCopyWarning: \n",
      "A value is trying to be set on a copy of a slice from a DataFrame.\n",
      "Try using .loc[row_indexer,col_indexer] = value instead\n",
      "\n",
      "See the caveats in the documentation: https://pandas.pydata.org/pandas-docs/stable/user_guide/indexing.html#returning-a-view-versus-a-copy\n",
      "  meis['MUNICIPIO'] = meis['MUNICIPIO'].apply(normalize_string)\n"
     ]
    }
   ],
   "source": [
    "from unidecode import unidecode\n",
    "\n",
    "# Função para normalizar (remover acentos e converter para minúsculas)\n",
    "def normalize_string(s):\n",
    "    return unidecode(s).lower()\n",
    "\n",
    "meis['MUNICIPIO'] = meis['MUNICIPIO'].apply(normalize_string)\n",
    "\n",
    "zeraram = list(zeraram)\n",
    "zeraram = [normalize_string(cidade) for cidade in zeraram]"
   ]
  },
  {
   "cell_type": "code",
   "execution_count": 167,
   "id": "8ee23d8a",
   "metadata": {},
   "outputs": [],
   "source": [
    "temmei = set(zeraram).intersection(set(meis['MUNICIPIO']))"
   ]
  },
  {
   "cell_type": "code",
   "execution_count": 169,
   "id": "4939c3b2",
   "metadata": {},
   "outputs": [
    {
     "data": {
      "text/plain": [
       "Unnamed: 0                      0.238214\n",
       "sexo                            0.238214\n",
       "id_municipio                    0.238214\n",
       "ano                             0.238214\n",
       "tempo_emprego                   0.238214\n",
       "quantidade_horas_contratadas    0.238214\n",
       "valor_remuneracao_media_sm      0.238214\n",
       "cbo_2002                        0.238214\n",
       "idade                           0.238214\n",
       "tipo_vinculo                    0.238214\n",
       "motivo_desligamento             0.238214\n",
       "tamanho_estabelecimento         0.238214\n",
       "grau_instrucao_1985_2005             inf\n",
       "grau_instrucao_apos_2005        0.238214\n",
       "UF                              0.238214\n",
       "Município                       0.238214\n",
       "Região                          0.238214\n",
       "População 2010                  0.238246\n",
       "Porte                           0.238214\n",
       "dtype: float64"
      ]
     },
     "execution_count": 169,
     "metadata": {},
     "output_type": "execute_result"
    }
   ],
   "source": [
    "meis['TOTAL'].sum()/ratier.loc[(ratier['ano'] == 2022)].count()"
   ]
  },
  {
   "cell_type": "code",
   "execution_count": 171,
   "id": "8b0c0544",
   "metadata": {},
   "outputs": [],
   "source": [
    "sem_real['Municipio_2'] = sem_real['Município'].apply(normalize_string)\n",
    "\n",
    "temmei = set(sem_real['Municipio_2']).intersection(set(meis['MUNICIPIO']))"
   ]
  },
  {
   "cell_type": "code",
   "execution_count": 173,
   "id": "62b0251e",
   "metadata": {
    "scrolled": true
   },
   "outputs": [
    {
     "data": {
      "text/plain": [
       "15"
      ]
     },
     "execution_count": 173,
     "metadata": {},
     "output_type": "execute_result"
    }
   ],
   "source": [
    "len(temmei)"
   ]
  },
  {
   "cell_type": "markdown",
   "id": "3e3a51a5",
   "metadata": {},
   "source": [
    "### Análises variadas\n",
    "\n",
    "(seção com análises rápidas focadas apenas em levantar dados pontuais para a matéria jornalística)"
   ]
  },
  {
   "cell_type": "code",
   "execution_count": 176,
   "id": "8876d41e",
   "metadata": {
    "scrolled": true
   },
   "outputs": [
    {
     "data": {
      "text/plain": [
       "(array([636., 655., 405., 345., 175., 188., 272., 122.,  86.,  43.]),\n",
       " array([ 0. ,  2.5,  5. ,  7.5, 10. , 12.5, 15. , 17.5, 20. , 22.5, 25. ]),\n",
       " <BarContainer object of 10 artists>)"
      ]
     },
     "execution_count": 176,
     "metadata": {},
     "output_type": "execute_result"
    },
    {
     "data": {
      "image/png": "[encoded data removed]",
      "text/plain": [
       "<Figure size 1000x600 with 1 Axes>"
      ]
     },
     "metadata": {},
     "output_type": "display_data"
    }
   ],
   "source": [
    "plt.figure(figsize=(10, 6))\n",
    "plt.hist(nao_tem['UF'])"
   ]
  },
  {
   "cell_type": "code",
   "execution_count": 178,
   "id": "fc9d7735",
   "metadata": {},
   "outputs": [],
   "source": [
    "df = pd.DataFrame(nao_tem['UF'].value_counts())\n",
    "df1=pd.DataFrame(desertos['UF'].value_counts())\n",
    "df2=pd.DataFrame(municipios['UF'].value_counts())"
   ]
  },
  {
   "cell_type": "code",
   "execution_count": 180,
   "id": "41459337",
   "metadata": {},
   "outputs": [],
   "source": [
    "df.to_excel('sem.xlsx')\n",
    "df1.to_excel('deserto.xlsx')\n",
    "df2.to_excel('total.xlsx')"
   ]
  },
  {
   "cell_type": "code",
   "execution_count": 182,
   "id": "7299c06d",
   "metadata": {},
   "outputs": [
    {
     "data": {
      "text/plain": [
       "(array([2.638e+03, 0.000e+00, 0.000e+00, 2.670e+02, 0.000e+00, 0.000e+00,\n",
       "        2.000e+01, 0.000e+00, 0.000e+00, 2.000e+00]),\n",
       " array([0. , 0.3, 0.6, 0.9, 1.2, 1.5, 1.8, 2.1, 2.4, 2.7, 3. ]),\n",
       " <BarContainer object of 10 artists>)"
      ]
     },
     "execution_count": 182,
     "metadata": {},
     "output_type": "execute_result"
    },
    {
     "data": {
      "image/png": "[encoded data removed]",
      "text/plain": [
       "<Figure size 640x480 with 1 Axes>"
      ]
     },
     "metadata": {},
     "output_type": "display_data"
    }
   ],
   "source": [
    "plt.hist(nao_tem['Porte'])"
   ]
  },
  {
   "cell_type": "code",
   "execution_count": 184,
   "id": "b3870079",
   "metadata": {
    "scrolled": true
   },
   "outputs": [
    {
     "data": {
      "text/plain": [
       "(array([ 189.,    0., 1033.,    0.,    0.,  852.,    0.,  495.,    0.,\n",
       "         139.]),\n",
       " array([0. , 0.4, 0.8, 1.2, 1.6, 2. , 2.4, 2.8, 3.2, 3.6, 4. ]),\n",
       " <BarContainer object of 10 artists>)"
      ]
     },
     "execution_count": 184,
     "metadata": {},
     "output_type": "execute_result"
    },
    {
     "data": {
      "image/png": "[encoded data removed]",
      "text/plain": [
       "<Figure size 640x480 with 1 Axes>"
      ]
     },
     "metadata": {},
     "output_type": "display_data"
    }
   ],
   "source": [
    "plt.hist(desertos['Região'])"
   ]
  },
  {
   "cell_type": "code",
   "execution_count": 186,
   "id": "b857c4e2",
   "metadata": {
    "scrolled": true
   },
   "outputs": [
    {
     "data": {
      "text/plain": [
       "UF\n",
       "MG    494\n",
       "SP    327\n",
       "RS    196\n",
       "BA    175\n",
       "PR    175\n",
       "PI    171\n",
       "PB    143\n",
       "RN    136\n",
       "MA    126\n",
       "SC    124\n",
       "GO     98\n",
       "PE     94\n",
       "TO     77\n",
       "CE     77\n",
       "AL     65\n",
       "PA     52\n",
       "SE     46\n",
       "MT     33\n",
       "ES     27\n",
       "AM     18\n",
       "RO     16\n",
       "RR     10\n",
       "AC      8\n",
       "AP      8\n",
       "MS      8\n",
       "RJ      4\n",
       "Name: count, dtype: int64"
      ]
     },
     "execution_count": 186,
     "metadata": {},
     "output_type": "execute_result"
    }
   ],
   "source": [
    "desertos['UF'].value_counts()"
   ]
  },
  {
   "cell_type": "code",
   "execution_count": 188,
   "id": "49a874b4",
   "metadata": {
    "scrolled": true
   },
   "outputs": [
    {
     "data": {
      "text/plain": [
       "UF\n",
       "MG    503\n",
       "SP    279\n",
       "RS    248\n",
       "BA    244\n",
       "PR    205\n",
       "PI    183\n",
       "GO    152\n",
       "MA    135\n",
       "PB    127\n",
       "SC    117\n",
       "TO    101\n",
       "RN     99\n",
       "PA     90\n",
       "PE     86\n",
       "MT     65\n",
       "CE     53\n",
       "AL     45\n",
       "AM     37\n",
       "SE     36\n",
       "MS     28\n",
       "ES     27\n",
       "RO     20\n",
       "AC     16\n",
       "RJ     13\n",
       "RR     11\n",
       "AP      7\n",
       "Name: count, dtype: int64"
      ]
     },
     "execution_count": 188,
     "metadata": {},
     "output_type": "execute_result"
    }
   ],
   "source": [
    "nao_tem['UF'].value_counts()"
   ]
  },
  {
   "cell_type": "code",
   "execution_count": 190,
   "id": "88d19236",
   "metadata": {},
   "outputs": [
    {
     "data": {
      "text/plain": [
       "Região\n",
       "Região Nordeste        1482\n",
       "Região Sudeste         1236\n",
       "Região Sul              865\n",
       "Região Centro-Oeste     370\n",
       "Região Norte            367\n",
       "Name: count, dtype: int64"
      ]
     },
     "execution_count": 190,
     "metadata": {},
     "output_type": "execute_result"
    }
   ],
   "source": [
    "sem_real['Região'].value_counts()"
   ]
  },
  {
   "cell_type": "code",
   "execution_count": 192,
   "id": "a3640e2e",
   "metadata": {
    "scrolled": true
   },
   "outputs": [
    {
     "data": {
      "text/plain": [
       "UF\n",
       "MG    695\n",
       "SP    446\n",
       "RS    357\n",
       "BA    357\n",
       "PR    310\n",
       "GO    211\n",
       "PI    211\n",
       "SC    198\n",
       "PB    192\n",
       "MA    181\n",
       "PE    146\n",
       "RN    141\n",
       "TO    128\n",
       "CE    118\n",
       "PA    113\n",
       "MT    103\n",
       "AL     76\n",
       "SE     60\n",
       "ES     57\n",
       "MS     56\n",
       "AM     49\n",
       "RJ     38\n",
       "RO     34\n",
       "AC     18\n",
       "RR     13\n",
       "AP     12\n",
       "Name: count, dtype: int64"
      ]
     },
     "execution_count": 192,
     "metadata": {},
     "output_type": "execute_result"
    }
   ],
   "source": [
    "sem_real['UF'].value_counts()"
   ]
  },
  {
   "cell_type": "code",
   "execution_count": 194,
   "id": "21417182",
   "metadata": {
    "scrolled": true
   },
   "outputs": [
    {
     "data": {
      "text/plain": [
       "(array([1176.,    0.,    0.,  532.,    0.,    0.,  102.,    0.,    0.,\n",
       "          23.]),\n",
       " array([0. , 0.3, 0.6, 0.9, 1.2, 1.5, 1.8, 2.1, 2.4, 2.7, 3. ]),\n",
       " <BarContainer object of 10 artists>)"
      ]
     },
     "execution_count": 194,
     "metadata": {},
     "output_type": "execute_result"
    },
    {
     "data": {
      "image/png": "[encoded data removed]",
      "text/plain": [
       "<Figure size 640x480 with 1 Axes>"
      ]
     },
     "metadata": {},
     "output_type": "display_data"
    }
   ],
   "source": [
    "plt.hist(atlas['Porte'])"
   ]
  },
  {
   "cell_type": "code",
   "execution_count": 196,
   "id": "30dce9fc",
   "metadata": {},
   "outputs": [
    {
     "data": {
      "text/plain": [
       "id_municipio      1833\n",
       "UF                1833\n",
       "Município         1833\n",
       "Região            1833\n",
       "População 2010    1831\n",
       "Porte             1833\n",
       "dtype: int64"
      ]
     },
     "execution_count": 196,
     "metadata": {},
     "output_type": "execute_result"
    }
   ],
   "source": [
    "    atlas.count()"
   ]
  },
  {
   "cell_type": "code",
   "execution_count": 198,
   "id": "c57b1b82",
   "metadata": {},
   "outputs": [],
   "source": [
    "# Selecionando a linha 37\n",
    "row_37 = numero_jors.loc[37]\n",
    "\n",
    "# Encontrando as colunas onde o valor da linha 37 é 0\n",
    "columns_with_zero = row_37[row_37 == 0].index.tolist()"
   ]
  },
  {
   "cell_type": "code",
   "execution_count": 200,
   "id": "bd5c5459",
   "metadata": {
    "scrolled": true
   },
   "outputs": [
    {
     "data": {
      "text/plain": [
       "Município         0.759425\n",
       "População 2010    0.759209\n",
       "Porte             0.759425\n",
       "Região            0.759425\n",
       "UF                0.759425\n",
       "id_municipio      0.759425\n",
       "dtype: float64"
      ]
     },
     "execution_count": 200,
     "metadata": {},
     "output_type": "execute_result"
    }
   ],
   "source": [
    "x = len(columns_with_zero) + nao_tem.count()\n",
    "x/municipios.count()"
   ]
  },
  {
   "cell_type": "code",
   "execution_count": 202,
   "id": "a3446cfc",
   "metadata": {},
   "outputs": [
    {
     "data": {
      "text/plain": [
       "28260433.0"
      ]
     },
     "execution_count": 202,
     "metadata": {},
     "output_type": "execute_result"
    }
   ],
   "source": [
    "nao_tem['População 2010'].sum()\n",
    "\n",
    "# nao_tem['População 2010'].sum()/municipios['População 2010'].sum()"
   ]
  },
  {
   "cell_type": "code",
   "execution_count": 204,
   "id": "3474570d",
   "metadata": {},
   "outputs": [
    {
     "data": {
      "text/html": [
       "<div>\n",
       "<style scoped>\n",
       "    .dataframe tbody tr th:only-of-type {\n",
       "        vertical-align: middle;\n",
       "    }\n",
       "\n",
       "    .dataframe tbody tr th {\n",
       "        vertical-align: top;\n",
       "    }\n",
       "\n",
       "    .dataframe thead th {\n",
       "        text-align: right;\n",
       "    }\n",
       "</style>\n",
       "<table border=\"1\" class=\"dataframe\">\n",
       "  <thead>\n",
       "    <tr style=\"text-align: right;\">\n",
       "      <th></th>\n",
       "      <th>UF</th>\n",
       "      <th>Município</th>\n",
       "      <th>Região</th>\n",
       "      <th>População 2010</th>\n",
       "      <th>Porte</th>\n",
       "      <th>id_municipio</th>\n",
       "    </tr>\n",
       "  </thead>\n",
       "  <tbody>\n",
       "    <tr>\n",
       "      <th>0</th>\n",
       "      <td>RO</td>\n",
       "      <td>Alta Floresta D´oeste</td>\n",
       "      <td>Região Norte</td>\n",
       "      <td>24392.0</td>\n",
       "      <td>Pequeno II</td>\n",
       "      <td>1100015</td>\n",
       "    </tr>\n",
       "    <tr>\n",
       "      <th>1</th>\n",
       "      <td>RO</td>\n",
       "      <td>Ariquemes</td>\n",
       "      <td>Região Norte</td>\n",
       "      <td>90353.0</td>\n",
       "      <td>Médio</td>\n",
       "      <td>1100023</td>\n",
       "    </tr>\n",
       "    <tr>\n",
       "      <th>2</th>\n",
       "      <td>RO</td>\n",
       "      <td>Cabixi</td>\n",
       "      <td>Região Norte</td>\n",
       "      <td>6313.0</td>\n",
       "      <td>Pequeno I</td>\n",
       "      <td>1100031</td>\n",
       "    </tr>\n",
       "    <tr>\n",
       "      <th>3</th>\n",
       "      <td>RO</td>\n",
       "      <td>Cacoal</td>\n",
       "      <td>Região Norte</td>\n",
       "      <td>78574.0</td>\n",
       "      <td>Médio</td>\n",
       "      <td>1100049</td>\n",
       "    </tr>\n",
       "    <tr>\n",
       "      <th>4</th>\n",
       "      <td>RO</td>\n",
       "      <td>Cerejeiras</td>\n",
       "      <td>Região Norte</td>\n",
       "      <td>17029.0</td>\n",
       "      <td>Pequeno I</td>\n",
       "      <td>1100056</td>\n",
       "    </tr>\n",
       "  </tbody>\n",
       "</table>\n",
       "</div>"
      ],
      "text/plain": [
       "   UF              Município        Região  População 2010       Porte  \\\n",
       "0  RO  Alta Floresta D´oeste  Região Norte         24392.0  Pequeno II   \n",
       "1  RO              Ariquemes  Região Norte         90353.0       Médio   \n",
       "2  RO                 Cabixi  Região Norte          6313.0   Pequeno I   \n",
       "3  RO                 Cacoal  Região Norte         78574.0       Médio   \n",
       "4  RO             Cerejeiras  Região Norte         17029.0   Pequeno I   \n",
       "\n",
       "   id_municipio  \n",
       "0       1100015  \n",
       "1       1100023  \n",
       "2       1100031  \n",
       "3       1100049  \n",
       "4       1100056  "
      ]
     },
     "execution_count": 204,
     "metadata": {},
     "output_type": "execute_result"
    }
   ],
   "source": [
    "municipios.head()"
   ]
  },
  {
   "cell_type": "code",
   "execution_count": 206,
   "id": "c7b545fc",
   "metadata": {},
   "outputs": [
    {
     "data": {
      "text/plain": [
       "0.3025561388044617"
      ]
     },
     "execution_count": 206,
     "metadata": {},
     "output_type": "execute_result"
    }
   ],
   "source": [
    "sem_real['População 2010'].sum()/municipios['População 2010'].sum()"
   ]
  },
  {
   "cell_type": "code",
   "execution_count": 208,
   "id": "ecc00ea9",
   "metadata": {
    "scrolled": true
   },
   "outputs": [
    {
     "data": {
      "text/plain": [
       "Municipio_2            NaN\n",
       "Município         0.677546\n",
       "População 2010    0.677173\n",
       "Porte             0.677546\n",
       "Região            0.677546\n",
       "UF                0.677546\n",
       "id_municipio      0.677546\n",
       "dtype: float64"
      ]
     },
     "execution_count": 208,
     "metadata": {},
     "output_type": "execute_result"
    }
   ],
   "source": [
    "nao_tem.count()/sem_real.count()"
   ]
  },
  {
   "cell_type": "code",
   "execution_count": 210,
   "id": "8e96a158",
   "metadata": {},
   "outputs": [
    {
     "data": {
      "text/plain": [
       "Porte\n",
       "Pequeno I     3498\n",
       "Pequeno II     689\n",
       "Médio          110\n",
       "Grande          23\n",
       "Name: count, dtype: int64"
      ]
     },
     "execution_count": 210,
     "metadata": {},
     "output_type": "execute_result"
    }
   ],
   "source": [
    "sem_real['Porte'].value_counts()"
   ]
  },
  {
   "cell_type": "markdown",
   "id": "31e29a1c",
   "metadata": {},
   "source": [
    "## Preparação de datasets para plotagem no Flourish"
   ]
  },
  {
   "cell_type": "code",
   "execution_count": 212,
   "id": "80ef7180",
   "metadata": {},
   "outputs": [
    {
     "name": "stderr",
     "output_type": "stream",
     "text": [
      "C:\\Users\\Diogo\\AppData\\Local\\Temp\\ipykernel_26088\\946354442.py:2: UserWarning: Pandas doesn't allow columns to be created via a new attribute name - see https://pandas.pydata.org/pandas-docs/stable/indexing.html#attribute-access\n",
      "  numero_jors.set = pd.DataFrame(numero_jors, index=anos)\n"
     ]
    }
   ],
   "source": [
    "anos = range(1985, 2022)\n",
    "numero_jors.set = pd.DataFrame(numero_jors, index=anos)"
   ]
  },
  {
   "cell_type": "code",
   "execution_count": 214,
   "id": "00c1649c",
   "metadata": {},
   "outputs": [],
   "source": [
    "df_long = pd.melt(numero_jors.reset_index(), id_vars=['index'], var_name='Município', value_name='Valor')\n",
    "df_long.rename(columns={'index': 'Ano'}, inplace=True)"
   ]
  },
  {
   "cell_type": "code",
   "execution_count": 216,
   "id": "12bbe607",
   "metadata": {},
   "outputs": [],
   "source": [
    "df_long = pd.merge(df_long, municipios, on=['Município'])"
   ]
  },
  {
   "cell_type": "code",
   "execution_count": 218,
   "id": "14584eba",
   "metadata": {},
   "outputs": [
    {
     "data": {
      "text/html": [
       "<div>\n",
       "<style scoped>\n",
       "    .dataframe tbody tr th:only-of-type {\n",
       "        vertical-align: middle;\n",
       "    }\n",
       "\n",
       "    .dataframe tbody tr th {\n",
       "        vertical-align: top;\n",
       "    }\n",
       "\n",
       "    .dataframe thead th {\n",
       "        text-align: right;\n",
       "    }\n",
       "</style>\n",
       "<table border=\"1\" class=\"dataframe\">\n",
       "  <thead>\n",
       "    <tr style=\"text-align: right;\">\n",
       "      <th></th>\n",
       "      <th>Ano</th>\n",
       "      <th>Município</th>\n",
       "      <th>Valor</th>\n",
       "      <th>UF</th>\n",
       "      <th>Região</th>\n",
       "      <th>População 2010</th>\n",
       "      <th>Porte</th>\n",
       "      <th>id_municipio</th>\n",
       "    </tr>\n",
       "  </thead>\n",
       "  <tbody>\n",
       "    <tr>\n",
       "      <th>0</th>\n",
       "      <td>0</td>\n",
       "      <td>Abadia Dos Dourados</td>\n",
       "      <td>0.0</td>\n",
       "      <td>MG</td>\n",
       "      <td>Região Sudeste</td>\n",
       "      <td>6704.0</td>\n",
       "      <td>Pequeno I</td>\n",
       "      <td>3100104</td>\n",
       "    </tr>\n",
       "    <tr>\n",
       "      <th>1</th>\n",
       "      <td>1</td>\n",
       "      <td>Abadia Dos Dourados</td>\n",
       "      <td>0.0</td>\n",
       "      <td>MG</td>\n",
       "      <td>Região Sudeste</td>\n",
       "      <td>6704.0</td>\n",
       "      <td>Pequeno I</td>\n",
       "      <td>3100104</td>\n",
       "    </tr>\n",
       "    <tr>\n",
       "      <th>2</th>\n",
       "      <td>2</td>\n",
       "      <td>Abadia Dos Dourados</td>\n",
       "      <td>0.0</td>\n",
       "      <td>MG</td>\n",
       "      <td>Região Sudeste</td>\n",
       "      <td>6704.0</td>\n",
       "      <td>Pequeno I</td>\n",
       "      <td>3100104</td>\n",
       "    </tr>\n",
       "    <tr>\n",
       "      <th>3</th>\n",
       "      <td>3</td>\n",
       "      <td>Abadia Dos Dourados</td>\n",
       "      <td>0.0</td>\n",
       "      <td>MG</td>\n",
       "      <td>Região Sudeste</td>\n",
       "      <td>6704.0</td>\n",
       "      <td>Pequeno I</td>\n",
       "      <td>3100104</td>\n",
       "    </tr>\n",
       "    <tr>\n",
       "      <th>4</th>\n",
       "      <td>4</td>\n",
       "      <td>Abadia Dos Dourados</td>\n",
       "      <td>0.0</td>\n",
       "      <td>MG</td>\n",
       "      <td>Região Sudeste</td>\n",
       "      <td>6704.0</td>\n",
       "      <td>Pequeno I</td>\n",
       "      <td>3100104</td>\n",
       "    </tr>\n",
       "  </tbody>\n",
       "</table>\n",
       "</div>"
      ],
      "text/plain": [
       "   Ano            Município Valor  UF          Região  População 2010  \\\n",
       "0    0  Abadia Dos Dourados   0.0  MG  Região Sudeste          6704.0   \n",
       "1    1  Abadia Dos Dourados   0.0  MG  Região Sudeste          6704.0   \n",
       "2    2  Abadia Dos Dourados   0.0  MG  Região Sudeste          6704.0   \n",
       "3    3  Abadia Dos Dourados   0.0  MG  Região Sudeste          6704.0   \n",
       "4    4  Abadia Dos Dourados   0.0  MG  Região Sudeste          6704.0   \n",
       "\n",
       "       Porte  id_municipio  \n",
       "0  Pequeno I       3100104  \n",
       "1  Pequeno I       3100104  \n",
       "2  Pequeno I       3100104  \n",
       "3  Pequeno I       3100104  \n",
       "4  Pequeno I       3100104  "
      ]
     },
     "execution_count": 218,
     "metadata": {},
     "output_type": "execute_result"
    }
   ],
   "source": [
    "df_long.head()"
   ]
  },
  {
   "cell_type": "code",
   "execution_count": 220,
   "id": "8d404721",
   "metadata": {},
   "outputs": [],
   "source": [
    "df_long.to_csv(r'numero_jors_1.csv')"
   ]
  },
  {
   "cell_type": "code",
   "execution_count": 222,
   "id": "528d1906",
   "metadata": {
    "scrolled": true
   },
   "outputs": [
    {
     "data": {
      "text/html": [
       "<div>\n",
       "<style scoped>\n",
       "    .dataframe tbody tr th:only-of-type {\n",
       "        vertical-align: middle;\n",
       "    }\n",
       "\n",
       "    .dataframe tbody tr th {\n",
       "        vertical-align: top;\n",
       "    }\n",
       "\n",
       "    .dataframe thead th {\n",
       "        text-align: right;\n",
       "    }\n",
       "</style>\n",
       "<table border=\"1\" class=\"dataframe\">\n",
       "  <thead>\n",
       "    <tr style=\"text-align: right;\">\n",
       "      <th>Município</th>\n",
       "      <th>Abadia Dos Dourados</th>\n",
       "      <th>Abadia de Goiás</th>\n",
       "      <th>Abadiânia</th>\n",
       "      <th>Abaetetuba</th>\n",
       "      <th>Abaeté</th>\n",
       "      <th>Abaíra</th>\n",
       "      <th>Abdon Batista</th>\n",
       "      <th>Abelardo Luz</th>\n",
       "      <th>Abre Campo</th>\n",
       "      <th>Abreu e Lima</th>\n",
       "      <th>...</th>\n",
       "      <th>Águas Formosas</th>\n",
       "      <th>Águas Lindas de Goiás</th>\n",
       "      <th>Águas de Chapecó</th>\n",
       "      <th>Águas de Lindóia</th>\n",
       "      <th>Águas de São Pedro</th>\n",
       "      <th>Águia Branca</th>\n",
       "      <th>Álvares Machado</th>\n",
       "      <th>Álvaro de Carvalho</th>\n",
       "      <th>Óbidos</th>\n",
       "      <th>ano</th>\n",
       "    </tr>\n",
       "  </thead>\n",
       "  <tbody>\n",
       "    <tr>\n",
       "      <th>0</th>\n",
       "      <td>0.0</td>\n",
       "      <td>0.0</td>\n",
       "      <td>0.0</td>\n",
       "      <td>0.0</td>\n",
       "      <td>2.0</td>\n",
       "      <td>0.0</td>\n",
       "      <td>0.0</td>\n",
       "      <td>0.0</td>\n",
       "      <td>0.0</td>\n",
       "      <td>0.0</td>\n",
       "      <td>...</td>\n",
       "      <td>0.0</td>\n",
       "      <td>0.0</td>\n",
       "      <td>0.0</td>\n",
       "      <td>0.0</td>\n",
       "      <td>0.0</td>\n",
       "      <td>0.0</td>\n",
       "      <td>0.0</td>\n",
       "      <td>0.0</td>\n",
       "      <td>0.0</td>\n",
       "      <td>NaN</td>\n",
       "    </tr>\n",
       "    <tr>\n",
       "      <th>1</th>\n",
       "      <td>0.0</td>\n",
       "      <td>0.0</td>\n",
       "      <td>0.0</td>\n",
       "      <td>0.0</td>\n",
       "      <td>3.0</td>\n",
       "      <td>0.0</td>\n",
       "      <td>0.0</td>\n",
       "      <td>0.0</td>\n",
       "      <td>0.0</td>\n",
       "      <td>0.0</td>\n",
       "      <td>...</td>\n",
       "      <td>0.0</td>\n",
       "      <td>0.0</td>\n",
       "      <td>0.0</td>\n",
       "      <td>0.0</td>\n",
       "      <td>0.0</td>\n",
       "      <td>0.0</td>\n",
       "      <td>0.0</td>\n",
       "      <td>0.0</td>\n",
       "      <td>0.0</td>\n",
       "      <td>NaN</td>\n",
       "    </tr>\n",
       "    <tr>\n",
       "      <th>2</th>\n",
       "      <td>0.0</td>\n",
       "      <td>0.0</td>\n",
       "      <td>0.0</td>\n",
       "      <td>0.0</td>\n",
       "      <td>4.0</td>\n",
       "      <td>0.0</td>\n",
       "      <td>0.0</td>\n",
       "      <td>0.0</td>\n",
       "      <td>0.0</td>\n",
       "      <td>0.0</td>\n",
       "      <td>...</td>\n",
       "      <td>0.0</td>\n",
       "      <td>0.0</td>\n",
       "      <td>0.0</td>\n",
       "      <td>0.0</td>\n",
       "      <td>0.0</td>\n",
       "      <td>0.0</td>\n",
       "      <td>0.0</td>\n",
       "      <td>0.0</td>\n",
       "      <td>1.0</td>\n",
       "      <td>NaN</td>\n",
       "    </tr>\n",
       "    <tr>\n",
       "      <th>3</th>\n",
       "      <td>0.0</td>\n",
       "      <td>0.0</td>\n",
       "      <td>0.0</td>\n",
       "      <td>0.0</td>\n",
       "      <td>3.0</td>\n",
       "      <td>0.0</td>\n",
       "      <td>0.0</td>\n",
       "      <td>0.0</td>\n",
       "      <td>0.0</td>\n",
       "      <td>0.0</td>\n",
       "      <td>...</td>\n",
       "      <td>0.0</td>\n",
       "      <td>0.0</td>\n",
       "      <td>0.0</td>\n",
       "      <td>0.0</td>\n",
       "      <td>0.0</td>\n",
       "      <td>0.0</td>\n",
       "      <td>0.0</td>\n",
       "      <td>0.0</td>\n",
       "      <td>1.0</td>\n",
       "      <td>NaN</td>\n",
       "    </tr>\n",
       "    <tr>\n",
       "      <th>4</th>\n",
       "      <td>0.0</td>\n",
       "      <td>0.0</td>\n",
       "      <td>0.0</td>\n",
       "      <td>0.0</td>\n",
       "      <td>0.0</td>\n",
       "      <td>0.0</td>\n",
       "      <td>0.0</td>\n",
       "      <td>0.0</td>\n",
       "      <td>0.0</td>\n",
       "      <td>0.0</td>\n",
       "      <td>...</td>\n",
       "      <td>0.0</td>\n",
       "      <td>0.0</td>\n",
       "      <td>0.0</td>\n",
       "      <td>0.0</td>\n",
       "      <td>0.0</td>\n",
       "      <td>0.0</td>\n",
       "      <td>0.0</td>\n",
       "      <td>0.0</td>\n",
       "      <td>1.0</td>\n",
       "      <td>NaN</td>\n",
       "    </tr>\n",
       "  </tbody>\n",
       "</table>\n",
       "<p>5 rows × 2435 columns</p>\n",
       "</div>"
      ],
      "text/plain": [
       "Município Abadia Dos Dourados Abadia de Goiás Abadiânia Abaetetuba Abaeté  \\\n",
       "0                         0.0             0.0       0.0        0.0    2.0   \n",
       "1                         0.0             0.0       0.0        0.0    3.0   \n",
       "2                         0.0             0.0       0.0        0.0    4.0   \n",
       "3                         0.0             0.0       0.0        0.0    3.0   \n",
       "4                         0.0             0.0       0.0        0.0    0.0   \n",
       "\n",
       "Município Abaíra Abdon Batista Abelardo Luz Abre Campo Abreu e Lima  ...  \\\n",
       "0            0.0           0.0          0.0        0.0          0.0  ...   \n",
       "1            0.0           0.0          0.0        0.0          0.0  ...   \n",
       "2            0.0           0.0          0.0        0.0          0.0  ...   \n",
       "3            0.0           0.0          0.0        0.0          0.0  ...   \n",
       "4            0.0           0.0          0.0        0.0          0.0  ...   \n",
       "\n",
       "Município Águas Formosas Águas Lindas de Goiás Águas de Chapecó  \\\n",
       "0                    0.0                   0.0              0.0   \n",
       "1                    0.0                   0.0              0.0   \n",
       "2                    0.0                   0.0              0.0   \n",
       "3                    0.0                   0.0              0.0   \n",
       "4                    0.0                   0.0              0.0   \n",
       "\n",
       "Município Águas de Lindóia Águas de São Pedro Águia Branca Álvares Machado  \\\n",
       "0                      0.0                0.0          0.0             0.0   \n",
       "1                      0.0                0.0          0.0             0.0   \n",
       "2                      0.0                0.0          0.0             0.0   \n",
       "3                      0.0                0.0          0.0             0.0   \n",
       "4                      0.0                0.0          0.0             0.0   \n",
       "\n",
       "Município Álvaro de Carvalho Óbidos  ano  \n",
       "0                        0.0    0.0  NaN  \n",
       "1                        0.0    0.0  NaN  \n",
       "2                        0.0    1.0  NaN  \n",
       "3                        0.0    1.0  NaN  \n",
       "4                        0.0    1.0  NaN  \n",
       "\n",
       "[5 rows x 2435 columns]"
      ]
     },
     "execution_count": 222,
     "metadata": {},
     "output_type": "execute_result"
    }
   ],
   "source": [
    "numero_jors.head()"
   ]
  },
  {
   "cell_type": "markdown",
   "id": "9a54b501-a50e-42db-b9d4-faa0e3acbc0e",
   "metadata": {},
   "source": [
    "**Unir latitudes e longitudes às bases**"
   ]
  },
  {
   "cell_type": "code",
   "execution_count": 224,
   "id": "185bd021",
   "metadata": {},
   "outputs": [],
   "source": [
    "latlon = pd.read_csv(r\"C:\\Users\\Diogo\\Downloads\\munic_4674 (1)\\munic_4674.txt\", sep=';')\n",
    "latlon['id_municipio'] = latlon['GEOCODIGO_MUNICIPIO']"
   ]
  },
  {
   "cell_type": "code",
   "execution_count": 226,
   "id": "deb7442a",
   "metadata": {},
   "outputs": [
    {
     "data": {
      "text/html": [
       "<div>\n",
       "<style scoped>\n",
       "    .dataframe tbody tr th:only-of-type {\n",
       "        vertical-align: middle;\n",
       "    }\n",
       "\n",
       "    .dataframe tbody tr th {\n",
       "        vertical-align: top;\n",
       "    }\n",
       "\n",
       "    .dataframe thead th {\n",
       "        text-align: right;\n",
       "    }\n",
       "</style>\n",
       "<table border=\"1\" class=\"dataframe\">\n",
       "  <thead>\n",
       "    <tr style=\"text-align: right;\">\n",
       "      <th></th>\n",
       "      <th>GEOCODIGO_MUNICIPIO</th>\n",
       "      <th>NOME_MUNICIPIO</th>\n",
       "      <th>LONGITUDE</th>\n",
       "      <th>LATITUDE</th>\n",
       "      <th>id_municipio</th>\n",
       "    </tr>\n",
       "  </thead>\n",
       "  <tbody>\n",
       "    <tr>\n",
       "      <th>0</th>\n",
       "      <td>1100015</td>\n",
       "      <td>ALTA FLORESTA D'OESTE</td>\n",
       "      <td>-61.999824</td>\n",
       "      <td>-11.935540</td>\n",
       "      <td>1100015</td>\n",
       "    </tr>\n",
       "    <tr>\n",
       "      <th>1</th>\n",
       "      <td>1100023</td>\n",
       "      <td>ARIQUEMES</td>\n",
       "      <td>-63.033269</td>\n",
       "      <td>-9.908463</td>\n",
       "      <td>1100023</td>\n",
       "    </tr>\n",
       "    <tr>\n",
       "      <th>2</th>\n",
       "      <td>1100031</td>\n",
       "      <td>CABIXI</td>\n",
       "      <td>-60.544314</td>\n",
       "      <td>-13.499763</td>\n",
       "      <td>1100031</td>\n",
       "    </tr>\n",
       "    <tr>\n",
       "      <th>3</th>\n",
       "      <td>1100049</td>\n",
       "      <td>CACOAL</td>\n",
       "      <td>-61.442944</td>\n",
       "      <td>-11.433865</td>\n",
       "      <td>1100049</td>\n",
       "    </tr>\n",
       "    <tr>\n",
       "      <th>4</th>\n",
       "      <td>1100056</td>\n",
       "      <td>CEREJEIRAS</td>\n",
       "      <td>-60.818426</td>\n",
       "      <td>-13.195033</td>\n",
       "      <td>1100056</td>\n",
       "    </tr>\n",
       "  </tbody>\n",
       "</table>\n",
       "</div>"
      ],
      "text/plain": [
       "  GEOCODIGO_MUNICIPIO         NOME_MUNICIPIO  LONGITUDE   LATITUDE  \\\n",
       "0             1100015  ALTA FLORESTA D'OESTE -61.999824 -11.935540   \n",
       "1             1100023              ARIQUEMES -63.033269  -9.908463   \n",
       "2             1100031                 CABIXI -60.544314 -13.499763   \n",
       "3             1100049                 CACOAL -61.442944 -11.433865   \n",
       "4             1100056             CEREJEIRAS -60.818426 -13.195033   \n",
       "\n",
       "  id_municipio  \n",
       "0      1100015  \n",
       "1      1100023  \n",
       "2      1100031  \n",
       "3      1100049  \n",
       "4      1100056  "
      ]
     },
     "execution_count": 226,
     "metadata": {},
     "output_type": "execute_result"
    }
   ],
   "source": [
    "latlon.head()"
   ]
  },
  {
   "cell_type": "code",
   "execution_count": 235,
   "id": "606d04bd",
   "metadata": {},
   "outputs": [],
   "source": [
    "df_long['id_municipio'] = df_long['id_municipio'].astype(str)\n",
    "df_long = pd.merge(df_long, latlon, on=['id_municipio'])"
   ]
  },
  {
   "cell_type": "code",
   "execution_count": 243,
   "id": "170ef3e1-feea-4f6c-82f5-49a848eccdcd",
   "metadata": {},
   "outputs": [
    {
     "data": {
      "text/html": [
       "<div>\n",
       "<style scoped>\n",
       "    .dataframe tbody tr th:only-of-type {\n",
       "        vertical-align: middle;\n",
       "    }\n",
       "\n",
       "    .dataframe tbody tr th {\n",
       "        vertical-align: top;\n",
       "    }\n",
       "\n",
       "    .dataframe thead th {\n",
       "        text-align: right;\n",
       "    }\n",
       "</style>\n",
       "<table border=\"1\" class=\"dataframe\">\n",
       "  <thead>\n",
       "    <tr style=\"text-align: right;\">\n",
       "      <th></th>\n",
       "      <th>Ano</th>\n",
       "      <th>Município</th>\n",
       "      <th>Valor</th>\n",
       "      <th>UF</th>\n",
       "      <th>Região</th>\n",
       "      <th>População 2010</th>\n",
       "      <th>Porte</th>\n",
       "      <th>id_municipio</th>\n",
       "      <th>GEOCODIGO_MUNICIPIO</th>\n",
       "      <th>NOME_MUNICIPIO</th>\n",
       "      <th>LONGITUDE</th>\n",
       "      <th>LATITUDE</th>\n",
       "    </tr>\n",
       "  </thead>\n",
       "  <tbody>\n",
       "    <tr>\n",
       "      <th>0</th>\n",
       "      <td>0</td>\n",
       "      <td>Abadia Dos Dourados</td>\n",
       "      <td>0.0</td>\n",
       "      <td>MG</td>\n",
       "      <td>Região Sudeste</td>\n",
       "      <td>6704.0</td>\n",
       "      <td>Pequeno I</td>\n",
       "      <td>3100104</td>\n",
       "      <td>3100104</td>\n",
       "      <td>ABADIA DOS DOURADOS</td>\n",
       "      <td>-47.396832</td>\n",
       "      <td>-18.487565</td>\n",
       "    </tr>\n",
       "    <tr>\n",
       "      <th>1</th>\n",
       "      <td>1</td>\n",
       "      <td>Abadia Dos Dourados</td>\n",
       "      <td>0.0</td>\n",
       "      <td>MG</td>\n",
       "      <td>Região Sudeste</td>\n",
       "      <td>6704.0</td>\n",
       "      <td>Pequeno I</td>\n",
       "      <td>3100104</td>\n",
       "      <td>3100104</td>\n",
       "      <td>ABADIA DOS DOURADOS</td>\n",
       "      <td>-47.396832</td>\n",
       "      <td>-18.487565</td>\n",
       "    </tr>\n",
       "    <tr>\n",
       "      <th>2</th>\n",
       "      <td>2</td>\n",
       "      <td>Abadia Dos Dourados</td>\n",
       "      <td>0.0</td>\n",
       "      <td>MG</td>\n",
       "      <td>Região Sudeste</td>\n",
       "      <td>6704.0</td>\n",
       "      <td>Pequeno I</td>\n",
       "      <td>3100104</td>\n",
       "      <td>3100104</td>\n",
       "      <td>ABADIA DOS DOURADOS</td>\n",
       "      <td>-47.396832</td>\n",
       "      <td>-18.487565</td>\n",
       "    </tr>\n",
       "    <tr>\n",
       "      <th>3</th>\n",
       "      <td>3</td>\n",
       "      <td>Abadia Dos Dourados</td>\n",
       "      <td>0.0</td>\n",
       "      <td>MG</td>\n",
       "      <td>Região Sudeste</td>\n",
       "      <td>6704.0</td>\n",
       "      <td>Pequeno I</td>\n",
       "      <td>3100104</td>\n",
       "      <td>3100104</td>\n",
       "      <td>ABADIA DOS DOURADOS</td>\n",
       "      <td>-47.396832</td>\n",
       "      <td>-18.487565</td>\n",
       "    </tr>\n",
       "    <tr>\n",
       "      <th>4</th>\n",
       "      <td>4</td>\n",
       "      <td>Abadia Dos Dourados</td>\n",
       "      <td>0.0</td>\n",
       "      <td>MG</td>\n",
       "      <td>Região Sudeste</td>\n",
       "      <td>6704.0</td>\n",
       "      <td>Pequeno I</td>\n",
       "      <td>3100104</td>\n",
       "      <td>3100104</td>\n",
       "      <td>ABADIA DOS DOURADOS</td>\n",
       "      <td>-47.396832</td>\n",
       "      <td>-18.487565</td>\n",
       "    </tr>\n",
       "  </tbody>\n",
       "</table>\n",
       "</div>"
      ],
      "text/plain": [
       "   Ano            Município Valor  UF          Região  População 2010  \\\n",
       "0    0  Abadia Dos Dourados   0.0  MG  Região Sudeste          6704.0   \n",
       "1    1  Abadia Dos Dourados   0.0  MG  Região Sudeste          6704.0   \n",
       "2    2  Abadia Dos Dourados   0.0  MG  Região Sudeste          6704.0   \n",
       "3    3  Abadia Dos Dourados   0.0  MG  Região Sudeste          6704.0   \n",
       "4    4  Abadia Dos Dourados   0.0  MG  Região Sudeste          6704.0   \n",
       "\n",
       "       Porte id_municipio GEOCODIGO_MUNICIPIO       NOME_MUNICIPIO  LONGITUDE  \\\n",
       "0  Pequeno I      3100104             3100104  ABADIA DOS DOURADOS -47.396832   \n",
       "1  Pequeno I      3100104             3100104  ABADIA DOS DOURADOS -47.396832   \n",
       "2  Pequeno I      3100104             3100104  ABADIA DOS DOURADOS -47.396832   \n",
       "3  Pequeno I      3100104             3100104  ABADIA DOS DOURADOS -47.396832   \n",
       "4  Pequeno I      3100104             3100104  ABADIA DOS DOURADOS -47.396832   \n",
       "\n",
       "    LATITUDE  \n",
       "0 -18.487565  \n",
       "1 -18.487565  \n",
       "2 -18.487565  \n",
       "3 -18.487565  \n",
       "4 -18.487565  "
      ]
     },
     "execution_count": 243,
     "metadata": {},
     "output_type": "execute_result"
    }
   ],
   "source": [
    "df_long.head()"
   ]
  },
  {
   "cell_type": "code",
   "execution_count": 245,
   "id": "3d590e99",
   "metadata": {
    "scrolled": true
   },
   "outputs": [],
   "source": [
    "df_long['Ano'] = df_long['Ano'] + 1985\n",
    "df_long['ano2'] = df_long['Ano'] + 1"
   ]
  },
  {
   "cell_type": "code",
   "execution_count": 247,
   "id": "7759c6b9",
   "metadata": {},
   "outputs": [],
   "source": [
    "df_long.to_csv(r'FINAL.csv')"
   ]
  },
  {
   "cell_type": "code",
   "execution_count": 249,
   "id": "dbd1db9e-5a9e-4d5a-992d-568f0ac0d90b",
   "metadata": {},
   "outputs": [],
   "source": [
    "veiculos = pd.read_csv(r\"C:\\Users\\Diogo\\Downloads\\csv (1).csv\")\n",
    "veiculos['id_municipio'] = veiculos['Cód Mun. (IBGE)']\n",
    "veiculos = pd.merge(municipios, veiculos, on=['id_municipio'], how='left')"
   ]
  },
  {
   "cell_type": "code",
   "execution_count": 251,
   "id": "b42c746e-acbb-4144-8f33-3617b8d1ef30",
   "metadata": {},
   "outputs": [],
   "source": [
    "veiculos.to_csv(r'veiculos.csv')"
   ]
  },
  {
   "cell_type": "code",
   "execution_count": 253,
   "id": "fa5fed51-732f-4a1e-8adc-32248dc7b671",
   "metadata": {
    "scrolled": true
   },
   "outputs": [
    {
     "data": {
      "text/plain": [
       "set()"
      ]
     },
     "execution_count": 253,
     "metadata": {},
     "output_type": "execute_result"
    }
   ],
   "source": [
    "set(municipios['id_municipio']).difference(set(veiculos['id_municipio']))"
   ]
  },
  {
   "cell_type": "code",
   "execution_count": 255,
   "id": "777e85b4-1a14-4599-a048-8ee5425d190c",
   "metadata": {},
   "outputs": [],
   "source": [
    "serie = ratier.groupby(['ano'])"
   ]
  },
  {
   "cell_type": "code",
   "execution_count": 257,
   "id": "6adb407d-044f-4991-9aa7-111e362a4021",
   "metadata": {},
   "outputs": [],
   "source": [
    "horas = serie['quantidade_horas_contratadas'].mean().reset_index()\n",
    "salario = serie['valor_remuneracao_media_sm'].mean().reset_index()"
   ]
  },
  {
   "cell_type": "code",
   "execution_count": 259,
   "id": "9af79a3b-a668-4d90-af61-aa1ba334b5fd",
   "metadata": {},
   "outputs": [],
   "source": [
    "salario.to_csv(r'salario.csv')\n",
    "horas.to_csv(r'horas.csv')"
   ]
  },
  {
   "cell_type": "code",
   "execution_count": 261,
   "id": "b1e55634-975a-43eb-8f64-ae0a15401791",
   "metadata": {},
   "outputs": [],
   "source": [
    "salario['valor_remuneracao_media_sm'] = (salario['valor_remuneracao_media_sm'] - salario['valor_remuneracao_media_sm'].mean())/np.std(salario['valor_remuneracao_media_sm'])\n",
    "horas['quantidade_horas_contratadas'] = (horas['quantidade_horas_contratadas'] - horas['quantidade_horas_contratadas'].mean())/np.std(horas['quantidade_horas_contratadas'])\n",
    "slhora = pd.merge(salario, horas, on=['ano'])\n",
    "slhora = pd.melt(slhora, id_vars=['ano'], var_name='variavel', value_name='Valor')"
   ]
  },
  {
   "cell_type": "code",
   "execution_count": 265,
   "id": "b43eb547-1b7c-435b-aedf-85bb8538b9f7",
   "metadata": {},
   "outputs": [],
   "source": [
    "slhora.to_csv(r'indicadores.csv')"
   ]
  },
  {
   "cell_type": "code",
   "execution_count": 273,
   "id": "e5147b58-abbb-45c6-af55-9280b5f4070a",
   "metadata": {
    "scrolled": true
   },
   "outputs": [],
   "source": [
    "indicadores = pd.read_excel(r\"C:\\Users\\Diogo\\Downloads\\ind_mun.xlsx\")"
   ]
  },
  {
   "cell_type": "code",
   "execution_count": 275,
   "id": "e43057c6-bdba-4a3a-9a11-e4d9ff093787",
   "metadata": {},
   "outputs": [],
   "source": [
    "indicadores['id_municipio'] = indicadores['id_municipio'].astype(str)\n",
    "indicadores = pd.merge(latlon, indicadores, on=['id_municipio'])"
   ]
  },
  {
   "cell_type": "code",
   "execution_count": 277,
   "id": "57788ef8-88d0-47b9-be6b-c567774d3a80",
   "metadata": {},
   "outputs": [],
   "source": [
    "indicadores.to_csv(r'ind.csv')"
   ]
  }
 ],
 "metadata": {
  "kernelspec": {
   "display_name": "Python 3 (ipykernel)",
   "language": "python",
   "name": "python3"
  },
  "language_info": {
   "codemirror_mode": {
    "name": "ipython",
    "version": 3
   },
   "file_extension": ".py",
   "mimetype": "text/x-python",
   "name": "python",
   "nbconvert_exporter": "python",
   "pygments_lexer": "ipython3",
   "version": "3.12.4"
  }
 },
 "nbformat": 4,
 "nbformat_minor": 5
}
